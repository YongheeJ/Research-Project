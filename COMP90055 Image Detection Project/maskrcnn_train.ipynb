{
 "cells": [
  {
   "cell_type": "code",
   "execution_count": 1,
   "metadata": {},
   "outputs": [
    {
     "name": "stdout",
     "output_type": "stream",
     "text": [
      "/home/hqq\n"
     ]
    },
    {
     "name": "stderr",
     "output_type": "stream",
     "text": [
      "Using TensorFlow backend.\n"
     ]
    }
   ],
   "source": [
    "import os\n",
    "import sys\n",
    "# !{sys.executable} -m pip install --upgrade pip\n",
    "# !{sys.executable} -m pip install --user numpy\n",
    "# !{sys.executable} -m pip install --user opencv-python\n",
    "# !{sys.executable} -m pip install --user matplotlib\n",
    "# !{sys.executable} -m pip install --user mrcnn\n",
    "# !{sys.executable} -m pip install --user pyyaml\n",
    "# !{sys.executable} -m pip install --user Pillow\n",
    "# !{sys.executable} -m pip install --user tensorflow-gpu==1.15.0\n",
    "# !{sys.executable} -m pip install --user keras==2.2.5\n",
    "# !{sys.executable} -m pip install --user Pillow\n",
    "# !{sys.executable} -m pip install --user scikit-image\n",
    "# !{sys.executable} -m pip install --user request\n",
    "import random\n",
    "import math\n",
    "import re\n",
    "import time\n",
    "import numpy as np\n",
    "import cv2\n",
    "import matplotlib\n",
    "from imgaug import augmenters as iaa\n",
    "import matplotlib.pyplot as plt\n",
    "\n",
    "import yaml\n",
    "from PIL import Image\n",
    "\n",
    "# Root directory of the project\n",
    "ROOT_DIR = os.path.abspath(\"./\")\n",
    "print(ROOT_DIR)\n",
    "#print(os.listdir(ROOT_DIR))\n",
    "\n",
    "# Import Mask RCNN\n",
    "sys.path.append(ROOT_DIR)  # To find local version of the library\n",
    "from mrcnn.config import Config\n",
    "from mrcnn import utils\n",
    "import mrcnn.model as modellib\n",
    "from mrcnn import visualize\n",
    "from mrcnn.model import log\n",
    "\n",
    "%matplotlib inline \n",
    "\n",
    "# Directory to save logs and trained model\n",
    "MODEL_DIR = os.path.join(ROOT_DIR, \"logs\")\n",
    "\n",
    "# Local path to trained weights file\n",
    "COCO_MODEL_PATH = os.path.join(ROOT_DIR, \"mask_rcnn_coco.h5\")\n",
    "# Download COCO trained weights from Releases if needed\n",
    "if not os.path.exists(COCO_MODEL_PATH):\n",
    "    utils.download_trained_weights(COCO_MODEL_PATH)"
   ]
  },
  {
   "cell_type": "markdown",
   "metadata": {},
   "source": [
    "# Configuration"
   ]
  },
  {
   "cell_type": "code",
   "execution_count": 2,
   "metadata": {},
   "outputs": [],
   "source": [
    "class FruitConfig(Config):\n",
    "    \"\"\"Configuration for training on the toy shapes dataset.\n",
    "    Derives from the base Config class and overrides values specific\n",
    "    to the toy shapes dataset.\n",
    "    \"\"\"\n",
    "    # Give the configuration a recognizable name\n",
    "    NAME = \"fruit\"\n",
    "\n",
    "    # Train on 1 GPU and 8 images per GPU. We can put multiple images on each\n",
    "    # GPU because the images are small. Batch size is 8 (GPUs * images/GPU).\n",
    "    GPU_COUNT = 2\n",
    "    IMAGES_PER_GPU = 2\n",
    "\n",
    "    # Number of classes (including background)\n",
    "    NUM_CLASSES = 1 + 2  # background + 1 class\n",
    "\n",
    "    # Use small images for faster training. Set the limits of the small side\n",
    "    # the large side, and that determines the image shape.\n",
    "    IMAGE_MIN_DIM = 512\n",
    "    IMAGE_MAX_DIM = 512\n",
    "\n",
    "    # Use smaller anchors because our image and objects are small\n",
    "    # RPN_ANCHOR_SCALES = (8 * 6, 16 * 6, 32 * 6, 64 * 6, 128 * 6)\n",
    "\n",
    "    # Reduce training ROIs per image because the images are small and have\n",
    "    # few objects. Aim to allow ROI sampling to pick 33% positive ROIs.\n",
    "    # TRAIN_ROIS_PER_IMAGE = 32\n",
    "\n",
    "    # Use a small epoch since the data is simple\n",
    "    STEPS_PER_EPOCH = 100\n",
    "\n",
    "    # use small validation steps since the epoch is small\n",
    "    # VALIDATION_STEPS = 5"
   ]
  },
  {
   "cell_type": "code",
   "execution_count": 3,
   "metadata": {},
   "outputs": [
    {
     "name": "stdout",
     "output_type": "stream",
     "text": [
      "\n",
      "Configurations:\n",
      "BACKBONE                       resnet101\n",
      "BACKBONE_STRIDES               [4, 8, 16, 32, 64]\n",
      "BATCH_SIZE                     4\n",
      "BBOX_STD_DEV                   [0.1 0.1 0.2 0.2]\n",
      "COMPUTE_BACKBONE_SHAPE         None\n",
      "DETECTION_MAX_INSTANCES        100\n",
      "DETECTION_MIN_CONFIDENCE       0.7\n",
      "DETECTION_NMS_THRESHOLD        0.3\n",
      "FPN_CLASSIF_FC_LAYERS_SIZE     1024\n",
      "GPU_COUNT                      2\n",
      "GRADIENT_CLIP_NORM             5.0\n",
      "IMAGES_PER_GPU                 2\n",
      "IMAGE_MAX_DIM                  512\n",
      "IMAGE_META_SIZE                15\n",
      "IMAGE_MIN_DIM                  512\n",
      "IMAGE_MIN_SCALE                0\n",
      "IMAGE_RESIZE_MODE              square\n",
      "IMAGE_SHAPE                    [512 512   3]\n",
      "LEARNING_MOMENTUM              0.9\n",
      "LEARNING_RATE                  0.001\n",
      "LOSS_WEIGHTS                   {'rpn_class_loss': 1.0, 'rpn_bbox_loss': 1.0, 'mrcnn_class_loss': 1.0, 'mrcnn_bbox_loss': 1.0, 'mrcnn_mask_loss': 1.0}\n",
      "MASK_POOL_SIZE                 14\n",
      "MASK_SHAPE                     [28, 28]\n",
      "MAX_GT_INSTANCES               100\n",
      "MEAN_PIXEL                     [123.7 116.8 103.9]\n",
      "MINI_MASK_SHAPE                (56, 56)\n",
      "NAME                           fruit\n",
      "NUM_CLASSES                    3\n",
      "POOL_SIZE                      7\n",
      "POST_NMS_ROIS_INFERENCE        1000\n",
      "POST_NMS_ROIS_TRAINING         2000\n",
      "ROI_POSITIVE_RATIO             0.33\n",
      "RPN_ANCHOR_RATIOS              [0.5, 1, 2]\n",
      "RPN_ANCHOR_SCALES              (32, 64, 128, 256, 512)\n",
      "RPN_ANCHOR_STRIDE              1\n",
      "RPN_BBOX_STD_DEV               [0.1 0.1 0.2 0.2]\n",
      "RPN_NMS_THRESHOLD              0.7\n",
      "RPN_TRAIN_ANCHORS_PER_IMAGE    256\n",
      "STEPS_PER_EPOCH                100\n",
      "TOP_DOWN_PYRAMID_SIZE          256\n",
      "TRAIN_BN                       False\n",
      "TRAIN_ROIS_PER_IMAGE           200\n",
      "USE_MINI_MASK                  True\n",
      "USE_RPN_ROIS                   True\n",
      "VALIDATION_STEPS               50\n",
      "WEIGHT_DECAY                   0.0001\n",
      "\n",
      "\n"
     ]
    }
   ],
   "source": [
    "config=FruitConfig()\n",
    "config.display()"
   ]
  },
  {
   "cell_type": "markdown",
   "metadata": {},
   "source": [
    "# notebook preference"
   ]
  },
  {
   "cell_type": "code",
   "execution_count": 4,
   "metadata": {},
   "outputs": [],
   "source": [
    "def get_ax(rows=1, cols=1, size=8):\n",
    "    \"\"\"Return a Matplotlib Axes array to be used in\n",
    "    all visualizations in the notebook. Provide a\n",
    "    central point to control graph sizes.\n",
    "    \n",
    "    Change the default size attribute to control the size\n",
    "    of rendered images\n",
    "    \"\"\"\n",
    "    _, ax = plt.subplots(rows, cols, figsize=(size*cols, size*rows))\n",
    "    return ax"
   ]
  },
  {
   "cell_type": "markdown",
   "metadata": {},
   "source": [
    "# Dataset"
   ]
  },
  {
   "cell_type": "code",
   "execution_count": 5,
   "metadata": {},
   "outputs": [],
   "source": [
    "class FruitDataset(utils.Dataset):\n",
    "    # 得到该图中有多少个实例（物体）\n",
    "    def get_obj_index(self, image):\n",
    "        n = np.max(image)\n",
    "        return n\n",
    "\n",
    "    # 解析labelme中得到的yaml文件，从而得到mask每一层对应的实例标签\n",
    "    def from_yaml_get_class(self, image_id):\n",
    "        info = self.image_info[image_id]\n",
    "        with open(info['yaml_path']) as f:\n",
    "            temp = yaml.full_load(f.read())\n",
    "            labels = temp['label_names']\n",
    "            del labels[0]\n",
    "        return labels\n",
    "\n",
    "    # 重新写draw_mask\n",
    "    def draw_mask(self, num_obj, mask, image, image_id):\n",
    "        # print(\"draw_mask-->\",image_id)\n",
    "        # print(\"self.image_info\",self.image_info)\n",
    "        info = self.image_info[image_id]\n",
    "        # print(\"info-->\",info)\n",
    "        # print(\"info[width]----->\",info['width'],\"-info[height]--->\",info['height'])\n",
    "        for index in range(num_obj):\n",
    "            for i in range(info['width']):\n",
    "                for j in range(info['height']):\n",
    "                    # print(\"image_id-->\",image_id,\"-i--->\",i,\"-j--->\",j)\n",
    "                    # print(\"info[width]----->\",info['width'],\"-info[height]--->\",info['height'])\n",
    "                    at_pixel = image.getpixel((i, j))\n",
    "                    if at_pixel == index + 1:\n",
    "                        mask[j, i, index] = 1\n",
    "        return mask\n",
    "\n",
    "    # 重新写load_shapes，里面包含自己的自己的类别\n",
    "    # 并在self.image_info信息中添加了path、mask_path 、yaml_path\n",
    "    # yaml_pathdataset_root_path = \"/tongue_dateset/\"\n",
    "    # img_floder = dataset_root_path + \"rgb\"\n",
    "    # mask_floder = dataset_root_path + \"mask\"\n",
    "    # dataset_root_path = \"/tongue_dateset/\"\n",
    "    def load_fruit(self, count, img_floder, mask_floder, imglist, dataset_root_path):\n",
    "        \"\"\"Generate the requested number of synthetic images.\n",
    "        count: number of images to generate.\n",
    "        height, width: the size of the generated images.\n",
    "        \"\"\"\n",
    "        # Add classes\n",
    "        self.add_class(\"fruit\", 1, \"apple\")\n",
    "        self.add_class(\"fruit\", 2, \"lemon\")\n",
    "        # self.add_class(\"shapes\", 2, \"tool2\")\n",
    "        for i in range(count):\n",
    "            # 获取图片宽和高\n",
    "            # print(imglist[i],\"-->\",cv_img.shape[1],\"--->\",cv_img.shape[0])\n",
    "            # print(\"id-->\", i, \" imglist[\", i, \"]-->\", imglist[i],\"filestr-->\",filestr)\n",
    "            # filestr = filestr.split(\"_\")[1]\n",
    "            mask_path = \"{}/label_{}.png\".format(mask_floder, i)\n",
    "            yaml_path = \"{}/info_{}.yaml\".format(yaml_floder, i)\n",
    "            cv_img = cv2.imread(\"{}/img_{}.png\".format(img_floder, i))\n",
    "            self.add_image(\"fruit\", image_id=i, path=\"{}/img_{}.png\".format(img_floder, i),\n",
    "                           width=cv_img.shape[1], height=cv_img.shape[0], mask_path=mask_path, yaml_path=yaml_path)\n",
    "\n",
    "    # 重写load_mask\n",
    "    def load_mask(self, image_id):\n",
    "        \"\"\"Generate instance masks for shapes of the given image ID.\n",
    "        \"\"\"\n",
    "        global iter_num\n",
    "        print(\"image_id\", image_id)\n",
    "        info = self.image_info[image_id]\n",
    "        count = 1  # number of object\n",
    "        img = Image.open(info['mask_path'])\n",
    "        num_obj = self.get_obj_index(img)\n",
    "        mask = np.zeros([info['height'], info['width'], num_obj], dtype=np.uint8)\n",
    "        mask = self.draw_mask(num_obj, mask, img, image_id)\n",
    "        occlusion = np.logical_not(mask[:, :, -1]).astype(np.uint8)\n",
    "        for i in range(count - 2, -1, -1):\n",
    "            mask[:, :, i] = mask[:, :, i] * occlusion\n",
    "\n",
    "            occlusion = np.logical_and(occlusion, np.logical_not(mask[:, :, i]))\n",
    "        labels = []\n",
    "        labels = self.from_yaml_get_class(image_id)\n",
    "        labels_form = []\n",
    "        for i in range(len(labels)):\n",
    "            if labels[i].find(\"Apple\") != -1:\n",
    "                # print \"apple\"\n",
    "                labels_form.append(\"apple\")\n",
    "            elif labels[i].find(\"lemon\") != -1:\n",
    "                # print \"lemon\"\n",
    "                labels_form.append(\"lemon\")\n",
    "        class_ids = np.array([self.class_names.index(s) for s in labels_form])\n",
    "        return mask, class_ids.astype(np.int32)\n"
   ]
  },
  {
   "cell_type": "markdown",
   "metadata": {},
   "source": [
    "# Load dataset"
   ]
  },
  {
   "cell_type": "code",
   "execution_count": 6,
   "metadata": {},
   "outputs": [],
   "source": [
    "dataset_root_path = ROOT_DIR + \"/applemon_dataset\"\n",
    "img_floder = os.path.join(dataset_root_path, \"pic\")\n",
    "mask_floder = os.path.join(dataset_root_path, \"cv2_mask\")\n",
    "yaml_floder = os.path.join(dataset_root_path, \"yaml\")\n",
    "# yaml_floder = dataset_root_path\n",
    "imglist = os.listdir(img_floder)\n",
    "count = len(imglist)\n",
    "# os.listdir(mask_floder)"
   ]
  },
  {
   "cell_type": "code",
   "execution_count": 7,
   "metadata": {},
   "outputs": [],
   "source": [
    "dataset_train = FruitDataset()\n",
    "dataset_train.load_fruit(count, img_floder, mask_floder, imglist, dataset_root_path)\n",
    "dataset_train.prepare()\n",
    "\n",
    "dataset_val = FruitDataset()\n",
    "dataset_val.load_fruit(7, img_floder, mask_floder, imglist, dataset_root_path)\n",
    "dataset_val.prepare()"
   ]
  },
  {
   "cell_type": "markdown",
   "metadata": {},
   "source": [
    "# Data augmentation"
   ]
  },
  {
   "cell_type": "code",
   "execution_count": 8,
   "metadata": {},
   "outputs": [],
   "source": [
    "# augmentation = iaa.SomeOf((0, 2), [\n",
    "#     iaa.Fliplr(0.5),\n",
    "#     iaa.Flipud(0.5),\n",
    "#     iaa.OneOf([iaa.Affine(rotate=90),\n",
    "#                iaa.Affine(rotate=180),\n",
    "#                iaa.Affine(rotate=270)]),\n",
    "#     iaa.Multiply((0.8, 1.5)),\n",
    "#     iaa.GaussianBlur(sigma=(0.0, 5.0))\n",
    "# ])"
   ]
  },
  {
   "cell_type": "markdown",
   "metadata": {},
   "source": [
    "# Create a model"
   ]
  },
  {
   "cell_type": "code",
   "execution_count": 9,
   "metadata": {},
   "outputs": [
    {
     "name": "stdout",
     "output_type": "stream",
     "text": [
      "\n",
      "Configurations:\n",
      "BACKBONE                       resnet101\n",
      "BACKBONE_STRIDES               [4, 8, 16, 32, 64]\n",
      "BATCH_SIZE                     4\n",
      "BBOX_STD_DEV                   [0.1 0.1 0.2 0.2]\n",
      "COMPUTE_BACKBONE_SHAPE         None\n",
      "DETECTION_MAX_INSTANCES        100\n",
      "DETECTION_MIN_CONFIDENCE       0.7\n",
      "DETECTION_NMS_THRESHOLD        0.3\n",
      "FPN_CLASSIF_FC_LAYERS_SIZE     1024\n",
      "GPU_COUNT                      2\n",
      "GRADIENT_CLIP_NORM             5.0\n",
      "IMAGES_PER_GPU                 2\n",
      "IMAGE_MAX_DIM                  512\n",
      "IMAGE_META_SIZE                15\n",
      "IMAGE_MIN_DIM                  512\n",
      "IMAGE_MIN_SCALE                0\n",
      "IMAGE_RESIZE_MODE              square\n",
      "IMAGE_SHAPE                    [512 512   3]\n",
      "LEARNING_MOMENTUM              0.9\n",
      "LEARNING_RATE                  0.001\n",
      "LOSS_WEIGHTS                   {'rpn_class_loss': 1.0, 'rpn_bbox_loss': 1.0, 'mrcnn_class_loss': 1.0, 'mrcnn_bbox_loss': 1.0, 'mrcnn_mask_loss': 1.0}\n",
      "MASK_POOL_SIZE                 14\n",
      "MASK_SHAPE                     [28, 28]\n",
      "MAX_GT_INSTANCES               100\n",
      "MEAN_PIXEL                     [123.7 116.8 103.9]\n",
      "MINI_MASK_SHAPE                (56, 56)\n",
      "NAME                           fruit\n",
      "NUM_CLASSES                    3\n",
      "POOL_SIZE                      7\n",
      "POST_NMS_ROIS_INFERENCE        1000\n",
      "POST_NMS_ROIS_TRAINING         2000\n",
      "ROI_POSITIVE_RATIO             0.33\n",
      "RPN_ANCHOR_RATIOS              [0.5, 1, 2]\n",
      "RPN_ANCHOR_SCALES              (32, 64, 128, 256, 512)\n",
      "RPN_ANCHOR_STRIDE              1\n",
      "RPN_BBOX_STD_DEV               [0.1 0.1 0.2 0.2]\n",
      "RPN_NMS_THRESHOLD              0.7\n",
      "RPN_TRAIN_ANCHORS_PER_IMAGE    256\n",
      "STEPS_PER_EPOCH                100\n",
      "TOP_DOWN_PYRAMID_SIZE          256\n",
      "TRAIN_BN                       False\n",
      "TRAIN_ROIS_PER_IMAGE           200\n",
      "USE_MINI_MASK                  True\n",
      "USE_RPN_ROIS                   True\n",
      "VALIDATION_STEPS               50\n",
      "WEIGHT_DECAY                   0.0001\n",
      "\n",
      "\n",
      "WARNING:tensorflow:From /home/hqq/.local/lib/python3.7/site-packages/keras/backend/tensorflow_backend.py:541: The name tf.placeholder is deprecated. Please use tf.compat.v1.placeholder instead.\n",
      "\n",
      "WARNING:tensorflow:From /home/hqq/.local/lib/python3.7/site-packages/keras/backend/tensorflow_backend.py:66: The name tf.get_default_graph is deprecated. Please use tf.compat.v1.get_default_graph instead.\n",
      "\n",
      "WARNING:tensorflow:From /home/hqq/.local/lib/python3.7/site-packages/keras/backend/tensorflow_backend.py:4432: The name tf.random_uniform is deprecated. Please use tf.random.uniform instead.\n",
      "\n",
      "WARNING:tensorflow:From /home/hqq/.local/lib/python3.7/site-packages/keras/backend/tensorflow_backend.py:2139: The name tf.nn.fused_batch_norm is deprecated. Please use tf.compat.v1.nn.fused_batch_norm instead.\n",
      "\n",
      "WARNING:tensorflow:From /home/hqq/.local/lib/python3.7/site-packages/keras/backend/tensorflow_backend.py:4267: The name tf.nn.max_pool is deprecated. Please use tf.nn.max_pool2d instead.\n",
      "\n",
      "WARNING:tensorflow:From /home/hqq/.local/lib/python3.7/site-packages/keras/backend/tensorflow_backend.py:2239: The name tf.image.resize_nearest_neighbor is deprecated. Please use tf.compat.v1.image.resize_nearest_neighbor instead.\n",
      "\n",
      "WARNING:tensorflow:From /home/hqq/.local/lib/python3.7/site-packages/tensorflow_core/python/ops/array_ops.py:1475: where (from tensorflow.python.ops.array_ops) is deprecated and will be removed in a future version.\n",
      "Instructions for updating:\n",
      "Use tf.where in 2.0, which has the same broadcast rule as np.where\n",
      "WARNING:tensorflow:From /home/hqq/.local/lib/python3.7/site-packages/mrcnn/model.py:554: The name tf.random_shuffle is deprecated. Please use tf.random.shuffle instead.\n",
      "\n",
      "WARNING:tensorflow:From /home/hqq/.local/lib/python3.7/site-packages/mrcnn/utils.py:200: The name tf.log is deprecated. Please use tf.math.log instead.\n",
      "\n",
      "WARNING:tensorflow:From /home/hqq/.local/lib/python3.7/site-packages/mrcnn/model.py:601: calling crop_and_resize_v1 (from tensorflow.python.ops.image_ops_impl) with box_ind is deprecated and will be removed in a future version.\n",
      "Instructions for updating:\n",
      "box_ind is deprecated, use box_indices instead\n",
      "WARNING:tensorflow:From /home/hqq/.local/lib/python3.7/site-packages/tensorflow_core/python/ops/variables.py:2825: Variable.initialized_value (from tensorflow.python.ops.variables) is deprecated and will be removed in a future version.\n",
      "Instructions for updating:\n",
      "Use Variable.read_value. Variables in 2.X are initialized automatically both in eager and graph (inside tf.defun) contexts.\n"
     ]
    }
   ],
   "source": [
    "config = FruitConfig()\n",
    "config.display()\n",
    "model = modellib.MaskRCNN(mode=\"training\", config=config, model_dir=MODEL_DIR)"
   ]
  },
  {
   "cell_type": "code",
   "execution_count": 10,
   "metadata": {},
   "outputs": [
    {
     "name": "stdout",
     "output_type": "stream",
     "text": [
      "WARNING:tensorflow:From /home/hqq/.local/lib/python3.7/site-packages/keras/backend/tensorflow_backend.py:190: The name tf.get_default_session is deprecated. Please use tf.compat.v1.get_default_session instead.\n",
      "\n",
      "WARNING:tensorflow:From /home/hqq/.local/lib/python3.7/site-packages/keras/backend/tensorflow_backend.py:197: The name tf.ConfigProto is deprecated. Please use tf.compat.v1.ConfigProto instead.\n",
      "\n",
      "WARNING:tensorflow:From /home/hqq/.local/lib/python3.7/site-packages/keras/backend/tensorflow_backend.py:203: The name tf.Session is deprecated. Please use tf.compat.v1.Session instead.\n",
      "\n",
      "WARNING:tensorflow:From /home/hqq/.local/lib/python3.7/site-packages/keras/backend/tensorflow_backend.py:207: The name tf.global_variables is deprecated. Please use tf.compat.v1.global_variables instead.\n",
      "\n",
      "WARNING:tensorflow:From /home/hqq/.local/lib/python3.7/site-packages/keras/backend/tensorflow_backend.py:216: The name tf.is_variable_initialized is deprecated. Please use tf.compat.v1.is_variable_initialized instead.\n",
      "\n",
      "WARNING:tensorflow:From /home/hqq/.local/lib/python3.7/site-packages/keras/backend/tensorflow_backend.py:223: The name tf.variables_initializer is deprecated. Please use tf.compat.v1.variables_initializer instead.\n",
      "\n"
     ]
    }
   ],
   "source": [
    "# Which weights to start with?\n",
    "init_with = \"coco\"  # imagenet, coco, or last\n",
    "\n",
    "if init_with == \"imagenet\":\n",
    "    model.load_weights(model.get_imagenet_weights(), by_name=True)\n",
    "elif init_with == \"coco\":\n",
    "    # Load weights trained on MS COCO, but skip layers that\n",
    "    # are different due to the different number of classes\n",
    "    # See README for instructions to download the COCO weights\n",
    "    model.load_weights(COCO_MODEL_PATH, by_name=True,\n",
    "                       exclude=[\"mrcnn_class_logits\", \"mrcnn_bbox_fc\", \n",
    "                                \"mrcnn_bbox\", \"mrcnn_mask\"])\n",
    "elif init_with == \"last\":\n",
    "    # Load the last model you trained and continue training\n",
    "    model.load_weights(model.find_last(), by_name=True)"
   ]
  },
  {
   "cell_type": "markdown",
   "metadata": {},
   "source": [
    "# Train the model"
   ]
  },
  {
   "cell_type": "code",
   "execution_count": null,
   "metadata": {},
   "outputs": [
    {
     "name": "stdout",
     "output_type": "stream",
     "text": [
      "\n",
      "Starting at epoch 0. LR=0.001\n",
      "\n",
      "Checkpoint Path: /home/hqq/logs/fruit20200222T1309/mask_rcnn_fruit_{epoch:04d}.h5\n",
      "Selecting layers to train\n",
      "fpn_c5p5               (Conv2D)\n",
      "fpn_c4p4               (Conv2D)\n",
      "fpn_c3p3               (Conv2D)\n",
      "fpn_c2p2               (Conv2D)\n",
      "fpn_p5                 (Conv2D)\n",
      "fpn_p2                 (Conv2D)\n",
      "fpn_p3                 (Conv2D)\n",
      "fpn_p4                 (Conv2D)\n",
      "In model:  rpn_model\n",
      "    rpn_conv_shared        (Conv2D)\n",
      "    rpn_class_raw          (Conv2D)\n",
      "    rpn_bbox_pred          (Conv2D)\n",
      "mrcnn_mask_conv1       (TimeDistributed)\n",
      "mrcnn_mask_bn1         (TimeDistributed)\n",
      "mrcnn_mask_conv2       (TimeDistributed)\n",
      "mrcnn_mask_bn2         (TimeDistributed)\n",
      "mrcnn_class_conv1      (TimeDistributed)\n",
      "mrcnn_class_bn1        (TimeDistributed)\n",
      "mrcnn_mask_conv3       (TimeDistributed)\n",
      "mrcnn_mask_bn3         (TimeDistributed)\n",
      "mrcnn_class_conv2      (TimeDistributed)\n",
      "mrcnn_class_bn2        (TimeDistributed)\n",
      "mrcnn_mask_conv4       (TimeDistributed)\n",
      "mrcnn_mask_bn4         (TimeDistributed)\n",
      "mrcnn_bbox_fc          (TimeDistributed)\n",
      "mrcnn_mask_deconv      (TimeDistributed)\n",
      "mrcnn_class_logits     (TimeDistributed)\n",
      "mrcnn_mask             (TimeDistributed)\n",
      "WARNING:tensorflow:From /home/hqq/.local/lib/python3.7/site-packages/keras/optimizers.py:793: The name tf.train.Optimizer is deprecated. Please use tf.compat.v1.train.Optimizer instead.\n",
      "\n"
     ]
    },
    {
     "name": "stderr",
     "output_type": "stream",
     "text": [
      "/home/hqq/.local/lib/python3.7/site-packages/tensorflow_core/python/framework/indexed_slices.py:424: UserWarning: Converting sparse IndexedSlices to a dense Tensor of unknown shape. This may consume a large amount of memory.\n",
      "  \"Converting sparse IndexedSlices to a dense Tensor of unknown shape. \"\n",
      "/home/hqq/.local/lib/python3.7/site-packages/tensorflow_core/python/framework/indexed_slices.py:424: UserWarning: Converting sparse IndexedSlices to a dense Tensor of unknown shape. This may consume a large amount of memory.\n",
      "  \"Converting sparse IndexedSlices to a dense Tensor of unknown shape. \"\n",
      "/home/hqq/.local/lib/python3.7/site-packages/tensorflow_core/python/framework/indexed_slices.py:424: UserWarning: Converting sparse IndexedSlices to a dense Tensor of unknown shape. This may consume a large amount of memory.\n",
      "  \"Converting sparse IndexedSlices to a dense Tensor of unknown shape. \"\n"
     ]
    },
    {
     "name": "stdout",
     "output_type": "stream",
     "text": [
      "WARNING:tensorflow:From /home/hqq/.local/lib/python3.7/site-packages/keras/backend/tensorflow_backend.py:1033: The name tf.assign_add is deprecated. Please use tf.compat.v1.assign_add instead.\n",
      "\n",
      "WARNING:tensorflow:From /home/hqq/.local/lib/python3.7/site-packages/keras/backend/tensorflow_backend.py:1020: The name tf.assign is deprecated. Please use tf.compat.v1.assign instead.\n",
      "\n"
     ]
    },
    {
     "name": "stderr",
     "output_type": "stream",
     "text": [
      "/home/hqq/.local/lib/python3.7/site-packages/keras/engine/training_generator.py:49: UserWarning: Using a generator with `use_multiprocessing=True` and multiple workers may duplicate your data. Please consider using the `keras.utils.Sequence class.\n",
      "  UserWarning('Using a generator with `use_multiprocessing=True`'\n"
     ]
    },
    {
     "name": "stdout",
     "output_type": "stream",
     "text": [
      "WARNING:tensorflow:From /home/hqq/.local/lib/python3.7/site-packages/keras/callbacks.py:1122: The name tf.summary.merge_all is deprecated. Please use tf.compat.v1.summary.merge_all instead.\n",
      "\n",
      "WARNING:tensorflow:From /home/hqq/.local/lib/python3.7/site-packages/keras/callbacks.py:1125: The name tf.summary.FileWriter is deprecated. Please use tf.compat.v1.summary.FileWriter instead.\n",
      "\n",
      "Epoch 1/10\n",
      "image_id 9\n",
      "image_id 9\n",
      "image_id 9\n",
      "image_id 9\n",
      "image_id 9\n",
      "image_id 9\n",
      "image_id 9\n",
      "image_id 9\n",
      "image_id 9\n",
      "image_id 9\n",
      "image_id 9\n",
      "image_id 9\n",
      "image_id 9\n",
      "image_id 9\n",
      "image_id 9\n",
      "image_id 9\n",
      "image_id 9\n",
      "image_id 9\n",
      "image_id 9\n",
      "image_id 9\n",
      "image_id 9\n",
      "image_id 9\n",
      "image_id 9\n",
      "image_id 9\n",
      "image_id 6\n",
      "image_id 6\n",
      "image_id 6\n",
      "image_id 6\n",
      "image_id 6\n",
      "image_id 6\n",
      "image_id 6\n",
      "image_id 6\n",
      "image_id 6\n",
      "image_id 6\n",
      "image_id 6\n",
      "image_id 6\n",
      "image_id 6\n",
      "image_id 6\n",
      "image_id 6\n",
      "image_id 6\n",
      "image_id 6\n",
      "image_id 6\n",
      "image_id 6\n",
      "image_id 6\n",
      "image_id 6\n",
      "image_id 6\n",
      "image_id 6\n",
      "image_id 6\n"
     ]
    },
    {
     "name": "stderr",
     "output_type": "stream",
     "text": [
      "/home/hqq/.local/lib/python3.7/site-packages/keras/utils/data_utils.py:709: UserWarning: An input could not be retrieved. It could be because a worker has died.We do not have any information on the lost sample.\n",
      "  UserWarning)\n"
     ]
    },
    {
     "name": "stdout",
     "output_type": "stream",
     "text": [
      "image_id 72\n",
      "image_id 72\n",
      "image_id 72\n",
      "image_id 72\n",
      "image_id 72\n",
      "image_id 72\n",
      "image_id 72\n",
      "image_id 72\n",
      "image_id 72\n",
      "image_id 72\n",
      "image_id 72\n",
      "image_id 72\n",
      "image_id 72\n",
      "image_id 72\n",
      "image_id 72\n",
      "image_id 72\n",
      "image_id 72\n",
      "image_id 72\n",
      "image_id 72\n",
      "image_id 72\n",
      "image_id 72\n",
      "image_id 72\n",
      "image_id 72\n",
      "image_id 72\n",
      "image_id 54\n",
      "image_id 54\n",
      "image_id 54\n",
      "image_id 54\n",
      "image_id 54\n",
      "image_id 54\n",
      "image_id 54\n",
      "image_id 54\n",
      "image_id 54\n",
      "image_id 54\n",
      "image_id 54\n",
      "image_id 54\n",
      "image_id 54\n",
      "image_id 54\n",
      "image_id 54\n",
      "image_id 54\n",
      "image_id 54\n",
      "image_id 54\n",
      "image_id 54\n",
      "image_id 54\n",
      "image_id 54\n",
      "image_id 54\n",
      "image_id 54\n",
      "image_id 54\n",
      "image_id 116\n",
      "image_id 116\n",
      "image_id 116\n",
      "image_id 116\n",
      "image_id 116\n",
      "image_id 116\n",
      "image_id 116\n",
      "image_id 116\n",
      "image_id 116\n",
      "image_id 116\n",
      "image_id 116\n",
      "image_id 116\n",
      "image_id 116\n",
      "image_id 116\n",
      "image_id 116\n",
      "image_id 116\n",
      "image_id 116\n",
      "image_id 116\n",
      "image_id 116\n",
      "image_id 116\n",
      "image_id 116\n",
      "image_id 116\n",
      "image_id 116\n",
      "image_id 116\n",
      "image_id 5\n",
      "image_id 5\n",
      "image_id 5\n",
      "image_id 5\n",
      "image_id 5\n",
      "image_id 5\n",
      "image_id 5\n",
      "image_id 5\n",
      "image_id 5\n",
      "image_id 5\n",
      "image_id 5\n",
      "image_id 5\n",
      "image_id 5\n",
      "image_id 5\n",
      "image_id 5\n",
      "image_id 5\n",
      "image_id 5\n",
      "image_id 5\n",
      "image_id 5\n",
      "image_id 5\n",
      "image_id 5\n",
      "image_id 5\n",
      "image_id 5\n",
      "image_id 5\n",
      "image_id 183\n",
      "image_id 183\n",
      "image_id 183\n",
      "image_id 183\n",
      "image_id 183\n",
      "image_id 183\n",
      "image_id 183\n",
      "image_id 183\n",
      "image_id 183\n",
      "image_id 183\n",
      "image_id 183\n",
      "image_id 183\n",
      "image_id 183\n",
      "image_id 183\n",
      "image_id 183\n",
      "image_id 183\n",
      "image_id 183\n",
      "image_id 183\n",
      "image_id 183\n",
      "image_id 183\n",
      "image_id 183\n",
      "image_id 183\n",
      "image_id 183\n",
      "image_id 183\n",
      "image_id 313\n",
      "image_id 313\n",
      "image_id 313\n",
      "image_id 313\n",
      "image_id 313\n",
      "image_id 313\n",
      "image_id 313\n",
      "image_id 313\n",
      "image_id 313\n",
      "image_id 313\n",
      "image_id 313\n",
      "image_id 313\n",
      "image_id 313\n",
      "image_id 313\n",
      "image_id 313\n",
      "image_id 313\n",
      "image_id 313\n",
      "image_id 313\n",
      "image_id 313\n",
      "image_id 313\n",
      "image_id 313\n",
      "image_id 313\n",
      "image_id 313\n",
      "image_id 313\n",
      "image_id 3\n",
      "image_id 3\n",
      "image_id 3\n",
      "image_id 3\n",
      "image_id 3\n",
      "image_id 3\n",
      "image_id 3\n",
      "image_id 3\n",
      "image_id 3\n",
      "image_id 3\n",
      "image_id 3\n",
      "image_id 3\n",
      "image_id 3\n",
      "image_id 3\n",
      "image_id 3\n",
      "image_id 3\n",
      "image_id 3\n",
      "image_id 3\n",
      "image_id 3\n",
      "image_id 3\n",
      "image_id 3\n",
      "image_id 3\n",
      "image_id 3\n",
      "image_id 3\n"
     ]
    },
    {
     "name": "stderr",
     "output_type": "stream",
     "text": [
      "/home/hqq/.local/lib/python3.7/site-packages/imgaug/augmenters/base.py:59: SuspiciousSingleImageShapeWarning: You provided a numpy array of shape (512, 512, 59) as a single-image augmentation input, which was interpreted as (H, W, C). The last dimension however has a size of >=32, which indicates that you provided a multi-image array with shape (N, H, W) instead. If that is the case, you should use e.g. augmenter(imageS=<your input>) or augment_imageS(<your input>). Otherwise your multi-image input will be interpreted as a single image during augmentation.\n",
      "  category=SuspiciousSingleImageShapeWarning)\n",
      "/home/hqq/.local/lib/python3.7/site-packages/imgaug/augmenters/base.py:59: SuspiciousSingleImageShapeWarning: You provided a numpy array of shape (512, 512, 59) as a single-image augmentation input, which was interpreted as (H, W, C). The last dimension however has a size of >=32, which indicates that you provided a multi-image array with shape (N, H, W) instead. If that is the case, you should use e.g. augmenter(imageS=<your input>) or augment_imageS(<your input>). Otherwise your multi-image input will be interpreted as a single image during augmentation.\n",
      "  category=SuspiciousSingleImageShapeWarning)\n",
      "/home/hqq/.local/lib/python3.7/site-packages/imgaug/augmenters/base.py:59: SuspiciousSingleImageShapeWarning: You provided a numpy array of shape (512, 512, 59) as a single-image augmentation input, which was interpreted as (H, W, C). The last dimension however has a size of >=32, which indicates that you provided a multi-image array with shape (N, H, W) instead. If that is the case, you should use e.g. augmenter(imageS=<your input>) or augment_imageS(<your input>). Otherwise your multi-image input will be interpreted as a single image during augmentation.\n",
      "  category=SuspiciousSingleImageShapeWarning)\n"
     ]
    },
    {
     "name": "stdout",
     "output_type": "stream",
     "text": [
      "image_id 270\n",
      "image_id 270\n"
     ]
    },
    {
     "name": "stderr",
     "output_type": "stream",
     "text": [
      "/home/hqq/.local/lib/python3.7/site-packages/imgaug/augmenters/base.py:59: SuspiciousSingleImageShapeWarning: You provided a numpy array of shape (512, 512, 59) as a single-image augmentation input, which was interpreted as (H, W, C). The last dimension however has a size of >=32, which indicates that you provided a multi-image array with shape (N, H, W) instead. If that is the case, you should use e.g. augmenter(imageS=<your input>) or augment_imageS(<your input>). Otherwise your multi-image input will be interpreted as a single image during augmentation.\n",
      "  category=SuspiciousSingleImageShapeWarning)\n"
     ]
    },
    {
     "name": "stdout",
     "output_type": "stream",
     "text": [
      "image_id 270\n"
     ]
    },
    {
     "name": "stderr",
     "output_type": "stream",
     "text": [
      "/home/hqq/.local/lib/python3.7/site-packages/imgaug/augmenters/base.py:59: SuspiciousSingleImageShapeWarning: You provided a numpy array of shape (512, 512, 59) as a single-image augmentation input, which was interpreted as (H, W, C). The last dimension however has a size of >=32, which indicates that you provided a multi-image array with shape (N, H, W) instead. If that is the case, you should use e.g. augmenter(imageS=<your input>) or augment_imageS(<your input>). Otherwise your multi-image input will be interpreted as a single image during augmentation.\n",
      "  category=SuspiciousSingleImageShapeWarning)\n",
      "/home/hqq/.local/lib/python3.7/site-packages/imgaug/augmenters/base.py:59: SuspiciousSingleImageShapeWarning: You provided a numpy array of shape (512, 512, 59) as a single-image augmentation input, which was interpreted as (H, W, C). The last dimension however has a size of >=32, which indicates that you provided a multi-image array with shape (N, H, W) instead. If that is the case, you should use e.g. augmenter(imageS=<your input>) or augment_imageS(<your input>). Otherwise your multi-image input will be interpreted as a single image during augmentation.\n",
      "  category=SuspiciousSingleImageShapeWarning)\n",
      "/home/hqq/.local/lib/python3.7/site-packages/imgaug/augmenters/base.py:59: SuspiciousSingleImageShapeWarning: You provided a numpy array of shape (512, 512, 59) as a single-image augmentation input, which was interpreted as (H, W, C). The last dimension however has a size of >=32, which indicates that you provided a multi-image array with shape (N, H, W) instead. If that is the case, you should use e.g. augmenter(imageS=<your input>) or augment_imageS(<your input>). Otherwise your multi-image input will be interpreted as a single image during augmentation.\n",
      "  category=SuspiciousSingleImageShapeWarning)\n",
      "/home/hqq/.local/lib/python3.7/site-packages/imgaug/augmenters/base.py:59: SuspiciousSingleImageShapeWarning: You provided a numpy array of shape (512, 512, 59) as a single-image augmentation input, which was interpreted as (H, W, C). The last dimension however has a size of >=32, which indicates that you provided a multi-image array with shape (N, H, W) instead. If that is the case, you should use e.g. augmenter(imageS=<your input>) or augment_imageS(<your input>). Otherwise your multi-image input will be interpreted as a single image during augmentation.\n",
      "  category=SuspiciousSingleImageShapeWarning)\n"
     ]
    },
    {
     "name": "stdout",
     "output_type": "stream",
     "text": [
      "image_id 270\n",
      "image_id 270\n"
     ]
    },
    {
     "name": "stderr",
     "output_type": "stream",
     "text": [
      "/home/hqq/.local/lib/python3.7/site-packages/imgaug/augmenters/base.py:59: SuspiciousSingleImageShapeWarning: You provided a numpy array of shape (512, 512, 59) as a single-image augmentation input, which was interpreted as (H, W, C). The last dimension however has a size of >=32, which indicates that you provided a multi-image array with shape (N, H, W) instead. If that is the case, you should use e.g. augmenter(imageS=<your input>) or augment_imageS(<your input>). Otherwise your multi-image input will be interpreted as a single image during augmentation.\n",
      "  category=SuspiciousSingleImageShapeWarning)\n"
     ]
    },
    {
     "name": "stdout",
     "output_type": "stream",
     "text": [
      "image_id 270\n"
     ]
    },
    {
     "name": "stderr",
     "output_type": "stream",
     "text": [
      "/home/hqq/.local/lib/python3.7/site-packages/imgaug/augmenters/base.py:59: SuspiciousSingleImageShapeWarning: You provided a numpy array of shape (512, 512, 59) as a single-image augmentation input, which was interpreted as (H, W, C). The last dimension however has a size of >=32, which indicates that you provided a multi-image array with shape (N, H, W) instead. If that is the case, you should use e.g. augmenter(imageS=<your input>) or augment_imageS(<your input>). Otherwise your multi-image input will be interpreted as a single image during augmentation.\n",
      "  category=SuspiciousSingleImageShapeWarning)\n",
      "/home/hqq/.local/lib/python3.7/site-packages/imgaug/augmenters/base.py:59: SuspiciousSingleImageShapeWarning: You provided a numpy array of shape (512, 512, 59) as a single-image augmentation input, which was interpreted as (H, W, C). The last dimension however has a size of >=32, which indicates that you provided a multi-image array with shape (N, H, W) instead. If that is the case, you should use e.g. augmenter(imageS=<your input>) or augment_imageS(<your input>). Otherwise your multi-image input will be interpreted as a single image during augmentation.\n",
      "  category=SuspiciousSingleImageShapeWarning)\n",
      "/home/hqq/.local/lib/python3.7/site-packages/imgaug/augmenters/base.py:59: SuspiciousSingleImageShapeWarning: You provided a numpy array of shape (512, 512, 59) as a single-image augmentation input, which was interpreted as (H, W, C). The last dimension however has a size of >=32, which indicates that you provided a multi-image array with shape (N, H, W) instead. If that is the case, you should use e.g. augmenter(imageS=<your input>) or augment_imageS(<your input>). Otherwise your multi-image input will be interpreted as a single image during augmentation.\n",
      "  category=SuspiciousSingleImageShapeWarning)\n"
     ]
    },
    {
     "name": "stdout",
     "output_type": "stream",
     "text": [
      "image_id 270\n"
     ]
    },
    {
     "name": "stderr",
     "output_type": "stream",
     "text": [
      "/home/hqq/.local/lib/python3.7/site-packages/imgaug/augmenters/base.py:59: SuspiciousSingleImageShapeWarning: You provided a numpy array of shape (512, 512, 59) as a single-image augmentation input, which was interpreted as (H, W, C). The last dimension however has a size of >=32, which indicates that you provided a multi-image array with shape (N, H, W) instead. If that is the case, you should use e.g. augmenter(imageS=<your input>) or augment_imageS(<your input>). Otherwise your multi-image input will be interpreted as a single image during augmentation.\n",
      "  category=SuspiciousSingleImageShapeWarning)\n"
     ]
    },
    {
     "name": "stdout",
     "output_type": "stream",
     "text": [
      "image_id 270\n"
     ]
    },
    {
     "name": "stderr",
     "output_type": "stream",
     "text": [
      "/home/hqq/.local/lib/python3.7/site-packages/imgaug/augmenters/base.py:59: SuspiciousSingleImageShapeWarning: You provided a numpy array of shape (512, 512, 59) as a single-image augmentation input, which was interpreted as (H, W, C). The last dimension however has a size of >=32, which indicates that you provided a multi-image array with shape (N, H, W) instead. If that is the case, you should use e.g. augmenter(imageS=<your input>) or augment_imageS(<your input>). Otherwise your multi-image input will be interpreted as a single image during augmentation.\n",
      "  category=SuspiciousSingleImageShapeWarning)\n",
      "/home/hqq/.local/lib/python3.7/site-packages/imgaug/augmenters/base.py:59: SuspiciousSingleImageShapeWarning: You provided a numpy array of shape (512, 512, 59) as a single-image augmentation input, which was interpreted as (H, W, C). The last dimension however has a size of >=32, which indicates that you provided a multi-image array with shape (N, H, W) instead. If that is the case, you should use e.g. augmenter(imageS=<your input>) or augment_imageS(<your input>). Otherwise your multi-image input will be interpreted as a single image during augmentation.\n",
      "  category=SuspiciousSingleImageShapeWarning)\n",
      "/home/hqq/.local/lib/python3.7/site-packages/imgaug/augmenters/base.py:59: SuspiciousSingleImageShapeWarning: You provided a numpy array of shape (512, 512, 59) as a single-image augmentation input, which was interpreted as (H, W, C). The last dimension however has a size of >=32, which indicates that you provided a multi-image array with shape (N, H, W) instead. If that is the case, you should use e.g. augmenter(imageS=<your input>) or augment_imageS(<your input>). Otherwise your multi-image input will be interpreted as a single image during augmentation.\n",
      "  category=SuspiciousSingleImageShapeWarning)\n",
      "/home/hqq/.local/lib/python3.7/site-packages/imgaug/augmenters/base.py:59: SuspiciousSingleImageShapeWarning: You provided a numpy array of shape (512, 512, 59) as a single-image augmentation input, which was interpreted as (H, W, C). The last dimension however has a size of >=32, which indicates that you provided a multi-image array with shape (N, H, W) instead. If that is the case, you should use e.g. augmenter(imageS=<your input>) or augment_imageS(<your input>). Otherwise your multi-image input will be interpreted as a single image during augmentation.\n",
      "  category=SuspiciousSingleImageShapeWarning)\n",
      "/home/hqq/.local/lib/python3.7/site-packages/imgaug/augmenters/base.py:59: SuspiciousSingleImageShapeWarning: You provided a numpy array of shape (512, 512, 59) as a single-image augmentation input, which was interpreted as (H, W, C). The last dimension however has a size of >=32, which indicates that you provided a multi-image array with shape (N, H, W) instead. If that is the case, you should use e.g. augmenter(imageS=<your input>) or augment_imageS(<your input>). Otherwise your multi-image input will be interpreted as a single image during augmentation.\n",
      "  category=SuspiciousSingleImageShapeWarning)\n"
     ]
    },
    {
     "name": "stdout",
     "output_type": "stream",
     "text": [
      "image_id 270\n",
      "image_id 270\n"
     ]
    },
    {
     "name": "stderr",
     "output_type": "stream",
     "text": [
      "/home/hqq/.local/lib/python3.7/site-packages/imgaug/augmenters/base.py:59: SuspiciousSingleImageShapeWarning: You provided a numpy array of shape (512, 512, 59) as a single-image augmentation input, which was interpreted as (H, W, C). The last dimension however has a size of >=32, which indicates that you provided a multi-image array with shape (N, H, W) instead. If that is the case, you should use e.g. augmenter(imageS=<your input>) or augment_imageS(<your input>). Otherwise your multi-image input will be interpreted as a single image during augmentation.\n",
      "  category=SuspiciousSingleImageShapeWarning)\n",
      "/home/hqq/.local/lib/python3.7/site-packages/imgaug/augmenters/base.py:59: SuspiciousSingleImageShapeWarning: You provided a numpy array of shape (512, 512, 59) as a single-image augmentation input, which was interpreted as (H, W, C). The last dimension however has a size of >=32, which indicates that you provided a multi-image array with shape (N, H, W) instead. If that is the case, you should use e.g. augmenter(imageS=<your input>) or augment_imageS(<your input>). Otherwise your multi-image input will be interpreted as a single image during augmentation.\n",
      "  category=SuspiciousSingleImageShapeWarning)\n"
     ]
    },
    {
     "name": "stdout",
     "output_type": "stream",
     "text": [
      "image_id 270\n",
      "image_id 270\n"
     ]
    },
    {
     "name": "stderr",
     "output_type": "stream",
     "text": [
      "/home/hqq/.local/lib/python3.7/site-packages/imgaug/augmenters/base.py:59: SuspiciousSingleImageShapeWarning: You provided a numpy array of shape (512, 512, 59) as a single-image augmentation input, which was interpreted as (H, W, C). The last dimension however has a size of >=32, which indicates that you provided a multi-image array with shape (N, H, W) instead. If that is the case, you should use e.g. augmenter(imageS=<your input>) or augment_imageS(<your input>). Otherwise your multi-image input will be interpreted as a single image during augmentation.\n",
      "  category=SuspiciousSingleImageShapeWarning)\n"
     ]
    },
    {
     "name": "stdout",
     "output_type": "stream",
     "text": [
      "image_id 270\n",
      "image_id 270\n",
      "image_id 270\n"
     ]
    },
    {
     "name": "stderr",
     "output_type": "stream",
     "text": [
      "/home/hqq/.local/lib/python3.7/site-packages/imgaug/augmenters/base.py:59: SuspiciousSingleImageShapeWarning: You provided a numpy array of shape (512, 512, 59) as a single-image augmentation input, which was interpreted as (H, W, C). The last dimension however has a size of >=32, which indicates that you provided a multi-image array with shape (N, H, W) instead. If that is the case, you should use e.g. augmenter(imageS=<your input>) or augment_imageS(<your input>). Otherwise your multi-image input will be interpreted as a single image during augmentation.\n",
      "  category=SuspiciousSingleImageShapeWarning)\n"
     ]
    },
    {
     "name": "stdout",
     "output_type": "stream",
     "text": [
      "image_id 270\n",
      "image_id 270\n",
      "image_id 270\n"
     ]
    },
    {
     "name": "stderr",
     "output_type": "stream",
     "text": [
      "/home/hqq/.local/lib/python3.7/site-packages/imgaug/augmenters/base.py:59: SuspiciousSingleImageShapeWarning: You provided a numpy array of shape (512, 512, 59) as a single-image augmentation input, which was interpreted as (H, W, C). The last dimension however has a size of >=32, which indicates that you provided a multi-image array with shape (N, H, W) instead. If that is the case, you should use e.g. augmenter(imageS=<your input>) or augment_imageS(<your input>). Otherwise your multi-image input will be interpreted as a single image during augmentation.\n",
      "  category=SuspiciousSingleImageShapeWarning)\n"
     ]
    },
    {
     "name": "stdout",
     "output_type": "stream",
     "text": [
      "image_id 270\n",
      "image_id 270\n",
      "image_id 270\n"
     ]
    },
    {
     "name": "stderr",
     "output_type": "stream",
     "text": [
      "/home/hqq/.local/lib/python3.7/site-packages/imgaug/augmenters/base.py:59: SuspiciousSingleImageShapeWarning: You provided a numpy array of shape (512, 512, 59) as a single-image augmentation input, which was interpreted as (H, W, C). The last dimension however has a size of >=32, which indicates that you provided a multi-image array with shape (N, H, W) instead. If that is the case, you should use e.g. augmenter(imageS=<your input>) or augment_imageS(<your input>). Otherwise your multi-image input will be interpreted as a single image during augmentation.\n",
      "  category=SuspiciousSingleImageShapeWarning)\n"
     ]
    },
    {
     "name": "stdout",
     "output_type": "stream",
     "text": [
      "image_id 270\n",
      "image_id 270\n",
      "image_id 270\n",
      "image_id 279\n",
      "image_id 279\n",
      "image_id 279\n",
      "image_id 279\n",
      "image_id 279\n",
      "image_id 279\n",
      "image_id 279\n",
      "image_id 279\n",
      "image_id 279\n",
      "image_id 279\n",
      "image_id 279\n",
      "image_id 279\n",
      "image_id 279\n",
      "image_id 279\n",
      "image_id 279\n",
      "image_id 279\n",
      "image_id 279\n",
      "image_id 279\n",
      "image_id 279\n",
      "image_id 279\n",
      "image_id 279\n",
      "image_id 279\n",
      "image_id 279\n",
      "image_id 279\n",
      "image_id 445\n",
      "image_id 445\n",
      "image_id 445\n",
      "image_id 445\n",
      "image_id 445\n",
      "image_id 445\n",
      "image_id 445\n",
      "image_id 445\n",
      "image_id 445\n",
      "image_id 445\n",
      "image_id 445\n",
      "image_id 445\n",
      "image_id 445\n",
      "image_id 445\n",
      "image_id 445\n",
      "image_id 445\n",
      "image_id 445\n",
      "image_id 445\n",
      "image_id 445\n",
      "image_id 445\n",
      "image_id 445\n",
      "image_id 445\n",
      "image_id 445\n",
      "image_id 445\n",
      "image_id 348\n",
      "image_id 348\n",
      "image_id 348\n",
      "image_id 348\n",
      "image_id 348\n",
      "image_id 348\n",
      "image_id 348\n",
      "image_id 348\n",
      "image_id 348\n",
      "image_id 348\n",
      "image_id 348\n",
      "image_id 348\n",
      "image_id 348\n",
      "image_id 348\n",
      "image_id 348\n",
      "image_id 348\n",
      "image_id 348\n",
      "image_id 348\n",
      "image_id 348\n",
      "image_id 348\n",
      "image_id 348\n",
      "image_id 348\n",
      "image_id 348\n",
      "image_id 348\n",
      "image_id 368\n",
      "image_id 368\n",
      "image_id 368\n",
      "image_id 368\n",
      "image_id 368\n",
      "image_id 368\n",
      "image_id 368\n",
      "image_id 368\n",
      "image_id 368\n",
      "image_id 368\n",
      "image_id 368\n",
      "image_id 368\n",
      "image_id 368\n",
      "image_id 368\n",
      "image_id 368\n",
      "image_id 368\n",
      "image_id 368\n",
      "image_id 368\n",
      "image_id 368\n",
      "image_id 368\n",
      "image_id 368\n",
      "image_id 368\n",
      "image_id 368\n",
      "image_id 368\n",
      "  1/100 [..............................] - ETA: 229:19:55 - loss: 5.9824 - rpn_class_loss: 0.0292 - rpn_bbox_loss: 0.1682 - mrcnn_class_loss: 1.2903 - mrcnn_bbox_loss: 1.8172 - mrcnn_mask_loss: 2.6776image_id 1\n",
      "image_id 1\n",
      "image_id 1\n",
      "image_id 1\n",
      "image_id 1\n",
      "image_id 1\n",
      "image_id 1\n",
      "image_id 1\n",
      "image_id 1\n",
      "image_id 1\n",
      "image_id 1\n",
      "image_id 1\n",
      "image_id 1\n",
      "image_id 1\n",
      "image_id 1\n",
      "image_id 1\n",
      "image_id 1\n",
      "image_id 1\n",
      "image_id 1\n",
      "image_id 1\n",
      "image_id 1\n",
      "image_id 1\n",
      "image_id 1\n",
      "image_id 1\n",
      "image_id 416\n",
      "image_id 436\n",
      "image_id 416\n",
      "image_id 416\n",
      "image_id 416\n",
      "image_id 436\n",
      "image_id 436\n",
      "image_id 416\n",
      "image_id 416\n",
      "image_id 416\n",
      "image_id 436\n",
      "image_id 416\n",
      "image_id 436\n",
      "image_id 436\n",
      "image_id 436\n",
      "image_id 436\n",
      "image_id 416\n",
      "image_id 416\n",
      "image_id 416\n",
      "image_id 416\n",
      "image_id 416\n",
      "image_id 416\n",
      "image_id 436\n",
      "image_id 436\n",
      "image_id 416\n",
      "image_id 436\n",
      "image_id 436\n",
      "image_id 436\n",
      "image_id 416\n",
      "image_id 436\n",
      "image_id 416\n",
      "image_id 416\n",
      "image_id 416\n",
      "image_id 436\n",
      "image_id 436\n",
      "image_id 416\n",
      "image_id 416\n",
      "image_id 436\n",
      "image_id 355\n",
      "image_id 436\n",
      "image_id 436\n",
      "image_id 416\n",
      "image_id 436\n",
      "image_id 436\n",
      "image_id 411\n",
      "image_id 355\n",
      "image_id 436\n",
      "image_id 355\n",
      "image_id 416\n",
      "image_id 416\n",
      "image_id 355\n",
      "image_id 411\n",
      "image_id 411\n",
      "image_id 436\n",
      "image_id 355\n",
      "image_id 436\n",
      "image_id 355\n",
      "image_id 355\n",
      "image_id 411\n",
      "image_id 355\n",
      "image_id 411\n",
      "image_id 411\n",
      "image_id 411\n",
      "image_id 411\n",
      "image_id 355\n",
      "image_id 355\n",
      "image_id 355\n",
      "image_id 355\n",
      "image_id 355\n",
      "image_id 355\n",
      "image_id 411\n",
      "image_id 411\n",
      "image_id 355\n",
      "image_id 411\n",
      "image_id 411\n",
      "image_id 411\n",
      "image_id 355\n",
      "image_id 411\n",
      "image_id 355\n",
      "image_id 355\n",
      "image_id 355\n",
      "image_id 411\n",
      "image_id 411\n",
      "image_id 355\n",
      "image_id 355\n",
      "image_id 411\n",
      "image_id 411\n",
      "image_id 355\n",
      "image_id 411\n",
      "image_id 411\n",
      "image_id 411\n",
      "image_id 411\n",
      "image_id 355\n",
      "image_id 355\n",
      "image_id 411\n",
      "image_id 411\n",
      "image_id 145\n",
      "image_id 145\n",
      "image_id 145\n",
      "image_id 145\n",
      "image_id 145\n",
      "image_id 145\n",
      "image_id 145\n",
      "image_id 145\n",
      "image_id 145\n",
      "image_id 145\n",
      "image_id 145\n",
      "image_id 145\n",
      "image_id 145\n",
      "image_id 145\n",
      "image_id 145\n",
      "image_id 145\n",
      "image_id 145\n",
      "image_id 145\n",
      "image_id 145\n",
      "image_id 145\n",
      "image_id 145\n",
      "image_id 145\n",
      "image_id 145\n",
      "image_id 145\n",
      "image_id 79\n",
      "image_id 79\n",
      "image_id 79\n",
      "image_id 188\n",
      "image_id 79\n",
      "image_id 79\n",
      "image_id 188\n",
      "image_id 188\n",
      "image_id 79\n",
      "image_id 79\n",
      "image_id 79\n",
      "image_id 188\n",
      "image_id 188\n",
      "image_id 188\n",
      "image_id 188\n",
      "image_id 188\n",
      "image_id 79\n",
      "image_id 79\n",
      "image_id 79\n",
      "image_id 79\n",
      "image_id 79\n",
      "image_id 79\n",
      "image_id 79\n",
      "image_id 188\n",
      "image_id 79\n",
      "image_id 188\n",
      "image_id 79\n",
      "image_id 79\n",
      "image_id 188\n",
      "image_id 79\n",
      "image_id 188\n",
      "image_id 188\n",
      "image_id 188\n",
      "image_id 79\n",
      "image_id 79\n",
      "image_id 79\n",
      "image_id 188\n",
      "image_id 188\n",
      "image_id 188\n",
      "image_id 188\n",
      "image_id 188\n",
      "image_id 188\n",
      "image_id 79\n",
      "image_id 188\n",
      "image_id 188\n",
      "image_id 79\n",
      "image_id 188\n",
      "image_id 188\n"
     ]
    },
    {
     "name": "stderr",
     "output_type": "stream",
     "text": [
      "/home/hqq/.local/lib/python3.7/site-packages/imgaug/augmenters/base.py:59: SuspiciousSingleImageShapeWarning: You provided a numpy array of shape (512, 512, 38) as a single-image augmentation input, which was interpreted as (H, W, C). The last dimension however has a size of >=32, which indicates that you provided a multi-image array with shape (N, H, W) instead. If that is the case, you should use e.g. augmenter(imageS=<your input>) or augment_imageS(<your input>). Otherwise your multi-image input will be interpreted as a single image during augmentation.\n",
      "  category=SuspiciousSingleImageShapeWarning)\n",
      "/home/hqq/.local/lib/python3.7/site-packages/imgaug/augmenters/base.py:59: SuspiciousSingleImageShapeWarning: You provided a numpy array of shape (512, 512, 38) as a single-image augmentation input, which was interpreted as (H, W, C). The last dimension however has a size of >=32, which indicates that you provided a multi-image array with shape (N, H, W) instead. If that is the case, you should use e.g. augmenter(imageS=<your input>) or augment_imageS(<your input>). Otherwise your multi-image input will be interpreted as a single image during augmentation.\n",
      "  category=SuspiciousSingleImageShapeWarning)\n",
      "/home/hqq/.local/lib/python3.7/site-packages/imgaug/augmenters/base.py:59: SuspiciousSingleImageShapeWarning: You provided a numpy array of shape (512, 512, 38) as a single-image augmentation input, which was interpreted as (H, W, C). The last dimension however has a size of >=32, which indicates that you provided a multi-image array with shape (N, H, W) instead. If that is the case, you should use e.g. augmenter(imageS=<your input>) or augment_imageS(<your input>). Otherwise your multi-image input will be interpreted as a single image during augmentation.\n",
      "  category=SuspiciousSingleImageShapeWarning)\n"
     ]
    },
    {
     "name": "stdout",
     "output_type": "stream",
     "text": [
      "image_id 33\n"
     ]
    },
    {
     "name": "stderr",
     "output_type": "stream",
     "text": [
      "/home/hqq/.local/lib/python3.7/site-packages/imgaug/augmenters/base.py:59: SuspiciousSingleImageShapeWarning: You provided a numpy array of shape (512, 512, 38) as a single-image augmentation input, which was interpreted as (H, W, C). The last dimension however has a size of >=32, which indicates that you provided a multi-image array with shape (N, H, W) instead. If that is the case, you should use e.g. augmenter(imageS=<your input>) or augment_imageS(<your input>). Otherwise your multi-image input will be interpreted as a single image during augmentation.\n",
      "  category=SuspiciousSingleImageShapeWarning)\n"
     ]
    },
    {
     "name": "stdout",
     "output_type": "stream",
     "text": [
      "image_id 33\n",
      "image_id 33\n",
      "image_id 33\n"
     ]
    },
    {
     "name": "stderr",
     "output_type": "stream",
     "text": [
      "/home/hqq/.local/lib/python3.7/site-packages/imgaug/augmenters/base.py:59: SuspiciousSingleImageShapeWarning: You provided a numpy array of shape (512, 512, 38) as a single-image augmentation input, which was interpreted as (H, W, C). The last dimension however has a size of >=32, which indicates that you provided a multi-image array with shape (N, H, W) instead. If that is the case, you should use e.g. augmenter(imageS=<your input>) or augment_imageS(<your input>). Otherwise your multi-image input will be interpreted as a single image during augmentation.\n",
      "  category=SuspiciousSingleImageShapeWarning)\n",
      "/home/hqq/.local/lib/python3.7/site-packages/imgaug/augmenters/base.py:59: SuspiciousSingleImageShapeWarning: You provided a numpy array of shape (512, 512, 38) as a single-image augmentation input, which was interpreted as (H, W, C). The last dimension however has a size of >=32, which indicates that you provided a multi-image array with shape (N, H, W) instead. If that is the case, you should use e.g. augmenter(imageS=<your input>) or augment_imageS(<your input>). Otherwise your multi-image input will be interpreted as a single image during augmentation.\n",
      "  category=SuspiciousSingleImageShapeWarning)\n",
      "/home/hqq/.local/lib/python3.7/site-packages/imgaug/augmenters/base.py:59: SuspiciousSingleImageShapeWarning: You provided a numpy array of shape (512, 512, 38) as a single-image augmentation input, which was interpreted as (H, W, C). The last dimension however has a size of >=32, which indicates that you provided a multi-image array with shape (N, H, W) instead. If that is the case, you should use e.g. augmenter(imageS=<your input>) or augment_imageS(<your input>). Otherwise your multi-image input will be interpreted as a single image during augmentation.\n",
      "  category=SuspiciousSingleImageShapeWarning)\n",
      "/home/hqq/.local/lib/python3.7/site-packages/imgaug/augmenters/base.py:59: SuspiciousSingleImageShapeWarning: You provided a numpy array of shape (512, 512, 38) as a single-image augmentation input, which was interpreted as (H, W, C). The last dimension however has a size of >=32, which indicates that you provided a multi-image array with shape (N, H, W) instead. If that is the case, you should use e.g. augmenter(imageS=<your input>) or augment_imageS(<your input>). Otherwise your multi-image input will be interpreted as a single image during augmentation.\n",
      "  category=SuspiciousSingleImageShapeWarning)\n"
     ]
    },
    {
     "name": "stdout",
     "output_type": "stream",
     "text": [
      "image_id 33\n",
      "image_id 33\n",
      "image_id 33\n",
      "image_id 33\n"
     ]
    },
    {
     "name": "stderr",
     "output_type": "stream",
     "text": [
      "/home/hqq/.local/lib/python3.7/site-packages/imgaug/augmenters/base.py:59: SuspiciousSingleImageShapeWarning: You provided a numpy array of shape (512, 512, 38) as a single-image augmentation input, which was interpreted as (H, W, C). The last dimension however has a size of >=32, which indicates that you provided a multi-image array with shape (N, H, W) instead. If that is the case, you should use e.g. augmenter(imageS=<your input>) or augment_imageS(<your input>). Otherwise your multi-image input will be interpreted as a single image during augmentation.\n",
      "  category=SuspiciousSingleImageShapeWarning)\n",
      "/home/hqq/.local/lib/python3.7/site-packages/imgaug/augmenters/base.py:59: SuspiciousSingleImageShapeWarning: You provided a numpy array of shape (512, 512, 38) as a single-image augmentation input, which was interpreted as (H, W, C). The last dimension however has a size of >=32, which indicates that you provided a multi-image array with shape (N, H, W) instead. If that is the case, you should use e.g. augmenter(imageS=<your input>) or augment_imageS(<your input>). Otherwise your multi-image input will be interpreted as a single image during augmentation.\n",
      "  category=SuspiciousSingleImageShapeWarning)\n",
      "/home/hqq/.local/lib/python3.7/site-packages/imgaug/augmenters/base.py:59: SuspiciousSingleImageShapeWarning: You provided a numpy array of shape (512, 512, 38) as a single-image augmentation input, which was interpreted as (H, W, C). The last dimension however has a size of >=32, which indicates that you provided a multi-image array with shape (N, H, W) instead. If that is the case, you should use e.g. augmenter(imageS=<your input>) or augment_imageS(<your input>). Otherwise your multi-image input will be interpreted as a single image during augmentation.\n",
      "  category=SuspiciousSingleImageShapeWarning)\n",
      "/home/hqq/.local/lib/python3.7/site-packages/imgaug/augmenters/base.py:59: SuspiciousSingleImageShapeWarning: You provided a numpy array of shape (512, 512, 38) as a single-image augmentation input, which was interpreted as (H, W, C). The last dimension however has a size of >=32, which indicates that you provided a multi-image array with shape (N, H, W) instead. If that is the case, you should use e.g. augmenter(imageS=<your input>) or augment_imageS(<your input>). Otherwise your multi-image input will be interpreted as a single image during augmentation.\n",
      "  category=SuspiciousSingleImageShapeWarning)\n",
      "/home/hqq/.local/lib/python3.7/site-packages/imgaug/augmenters/base.py:59: SuspiciousSingleImageShapeWarning: You provided a numpy array of shape (512, 512, 38) as a single-image augmentation input, which was interpreted as (H, W, C). The last dimension however has a size of >=32, which indicates that you provided a multi-image array with shape (N, H, W) instead. If that is the case, you should use e.g. augmenter(imageS=<your input>) or augment_imageS(<your input>). Otherwise your multi-image input will be interpreted as a single image during augmentation.\n",
      "  category=SuspiciousSingleImageShapeWarning)\n"
     ]
    },
    {
     "name": "stdout",
     "output_type": "stream",
     "text": [
      "image_id 33\n",
      "image_id 33\n"
     ]
    },
    {
     "name": "stderr",
     "output_type": "stream",
     "text": [
      "/home/hqq/.local/lib/python3.7/site-packages/imgaug/augmenters/base.py:59: SuspiciousSingleImageShapeWarning: You provided a numpy array of shape (512, 512, 38) as a single-image augmentation input, which was interpreted as (H, W, C). The last dimension however has a size of >=32, which indicates that you provided a multi-image array with shape (N, H, W) instead. If that is the case, you should use e.g. augmenter(imageS=<your input>) or augment_imageS(<your input>). Otherwise your multi-image input will be interpreted as a single image during augmentation.\n",
      "  category=SuspiciousSingleImageShapeWarning)\n",
      "/home/hqq/.local/lib/python3.7/site-packages/imgaug/augmenters/base.py:59: SuspiciousSingleImageShapeWarning: You provided a numpy array of shape (512, 512, 38) as a single-image augmentation input, which was interpreted as (H, W, C). The last dimension however has a size of >=32, which indicates that you provided a multi-image array with shape (N, H, W) instead. If that is the case, you should use e.g. augmenter(imageS=<your input>) or augment_imageS(<your input>). Otherwise your multi-image input will be interpreted as a single image during augmentation.\n",
      "  category=SuspiciousSingleImageShapeWarning)\n"
     ]
    },
    {
     "name": "stdout",
     "output_type": "stream",
     "text": [
      "image_id 33\n",
      "image_id 33\n",
      "image_id 33\n"
     ]
    },
    {
     "name": "stderr",
     "output_type": "stream",
     "text": [
      "/home/hqq/.local/lib/python3.7/site-packages/imgaug/augmenters/base.py:59: SuspiciousSingleImageShapeWarning: You provided a numpy array of shape (512, 512, 38) as a single-image augmentation input, which was interpreted as (H, W, C). The last dimension however has a size of >=32, which indicates that you provided a multi-image array with shape (N, H, W) instead. If that is the case, you should use e.g. augmenter(imageS=<your input>) or augment_imageS(<your input>). Otherwise your multi-image input will be interpreted as a single image during augmentation.\n",
      "  category=SuspiciousSingleImageShapeWarning)\n",
      "/home/hqq/.local/lib/python3.7/site-packages/imgaug/augmenters/base.py:59: SuspiciousSingleImageShapeWarning: You provided a numpy array of shape (512, 512, 38) as a single-image augmentation input, which was interpreted as (H, W, C). The last dimension however has a size of >=32, which indicates that you provided a multi-image array with shape (N, H, W) instead. If that is the case, you should use e.g. augmenter(imageS=<your input>) or augment_imageS(<your input>). Otherwise your multi-image input will be interpreted as a single image during augmentation.\n",
      "  category=SuspiciousSingleImageShapeWarning)\n",
      "/home/hqq/.local/lib/python3.7/site-packages/imgaug/augmenters/base.py:59: SuspiciousSingleImageShapeWarning: You provided a numpy array of shape (512, 512, 38) as a single-image augmentation input, which was interpreted as (H, W, C). The last dimension however has a size of >=32, which indicates that you provided a multi-image array with shape (N, H, W) instead. If that is the case, you should use e.g. augmenter(imageS=<your input>) or augment_imageS(<your input>). Otherwise your multi-image input will be interpreted as a single image during augmentation.\n",
      "  category=SuspiciousSingleImageShapeWarning)\n"
     ]
    },
    {
     "name": "stdout",
     "output_type": "stream",
     "text": [
      "image_id 33\n",
      "image_id 33\n"
     ]
    },
    {
     "name": "stderr",
     "output_type": "stream",
     "text": [
      "/home/hqq/.local/lib/python3.7/site-packages/imgaug/augmenters/base.py:59: SuspiciousSingleImageShapeWarning: You provided a numpy array of shape (512, 512, 38) as a single-image augmentation input, which was interpreted as (H, W, C). The last dimension however has a size of >=32, which indicates that you provided a multi-image array with shape (N, H, W) instead. If that is the case, you should use e.g. augmenter(imageS=<your input>) or augment_imageS(<your input>). Otherwise your multi-image input will be interpreted as a single image during augmentation.\n",
      "  category=SuspiciousSingleImageShapeWarning)\n",
      "/home/hqq/.local/lib/python3.7/site-packages/imgaug/augmenters/base.py:59: SuspiciousSingleImageShapeWarning: You provided a numpy array of shape (512, 512, 38) as a single-image augmentation input, which was interpreted as (H, W, C). The last dimension however has a size of >=32, which indicates that you provided a multi-image array with shape (N, H, W) instead. If that is the case, you should use e.g. augmenter(imageS=<your input>) or augment_imageS(<your input>). Otherwise your multi-image input will be interpreted as a single image during augmentation.\n",
      "  category=SuspiciousSingleImageShapeWarning)\n",
      "/home/hqq/.local/lib/python3.7/site-packages/imgaug/augmenters/base.py:59: SuspiciousSingleImageShapeWarning: You provided a numpy array of shape (512, 512, 38) as a single-image augmentation input, which was interpreted as (H, W, C). The last dimension however has a size of >=32, which indicates that you provided a multi-image array with shape (N, H, W) instead. If that is the case, you should use e.g. augmenter(imageS=<your input>) or augment_imageS(<your input>). Otherwise your multi-image input will be interpreted as a single image during augmentation.\n",
      "  category=SuspiciousSingleImageShapeWarning)\n"
     ]
    },
    {
     "name": "stdout",
     "output_type": "stream",
     "text": [
      "image_id 33\n",
      "image_id 33\n",
      "image_id 33\n"
     ]
    },
    {
     "name": "stderr",
     "output_type": "stream",
     "text": [
      "/home/hqq/.local/lib/python3.7/site-packages/imgaug/augmenters/base.py:59: SuspiciousSingleImageShapeWarning: You provided a numpy array of shape (512, 512, 38) as a single-image augmentation input, which was interpreted as (H, W, C). The last dimension however has a size of >=32, which indicates that you provided a multi-image array with shape (N, H, W) instead. If that is the case, you should use e.g. augmenter(imageS=<your input>) or augment_imageS(<your input>). Otherwise your multi-image input will be interpreted as a single image during augmentation.\n",
      "  category=SuspiciousSingleImageShapeWarning)\n"
     ]
    },
    {
     "name": "stdout",
     "output_type": "stream",
     "text": [
      "image_id 33\n",
      "image_id 33\n",
      "image_id 33\n",
      "image_id 33\n"
     ]
    },
    {
     "name": "stderr",
     "output_type": "stream",
     "text": [
      "/home/hqq/.local/lib/python3.7/site-packages/imgaug/augmenters/base.py:59: SuspiciousSingleImageShapeWarning: You provided a numpy array of shape (512, 512, 38) as a single-image augmentation input, which was interpreted as (H, W, C). The last dimension however has a size of >=32, which indicates that you provided a multi-image array with shape (N, H, W) instead. If that is the case, you should use e.g. augmenter(imageS=<your input>) or augment_imageS(<your input>). Otherwise your multi-image input will be interpreted as a single image during augmentation.\n",
      "  category=SuspiciousSingleImageShapeWarning)\n",
      "/home/hqq/.local/lib/python3.7/site-packages/imgaug/augmenters/base.py:59: SuspiciousSingleImageShapeWarning: You provided a numpy array of shape (512, 512, 38) as a single-image augmentation input, which was interpreted as (H, W, C). The last dimension however has a size of >=32, which indicates that you provided a multi-image array with shape (N, H, W) instead. If that is the case, you should use e.g. augmenter(imageS=<your input>) or augment_imageS(<your input>). Otherwise your multi-image input will be interpreted as a single image during augmentation.\n",
      "  category=SuspiciousSingleImageShapeWarning)\n"
     ]
    },
    {
     "name": "stdout",
     "output_type": "stream",
     "text": [
      "image_id 33\n",
      "image_id 33\n",
      "image_id 444\n",
      "image_id 444\n",
      "image_id 444\n",
      "image_id 444\n",
      "image_id 444\n",
      "image_id 444\n",
      "image_id 444\n",
      "image_id 444\n",
      "image_id 444\n",
      "image_id 444\n",
      "image_id 444\n",
      "image_id 444\n",
      "image_id 444\n",
      "image_id 444\n",
      "image_id 444\n",
      "image_id 444\n",
      "image_id 444\n",
      "image_id 444\n",
      "image_id 444\n",
      "image_id 444\n",
      "image_id 444\n",
      "image_id 444\n",
      "image_id 444\n",
      "image_id 444\n",
      "  2/100 [..............................] - ETA: 221:57:39 - loss: 5.5263 - rpn_class_loss: 0.0620 - rpn_bbox_loss: 0.2179 - mrcnn_class_loss: 1.2285 - mrcnn_bbox_loss: 1.7899 - mrcnn_mask_loss: 2.2281image_id 204\n",
      "image_id 204\n",
      "image_id 204\n",
      "image_id 204\n",
      "image_id 204\n",
      "image_id 204\n",
      "image_id 204\n",
      "image_id 128\n",
      "image_id 128\n",
      "image_id 128\n",
      "image_id 128\n",
      "image_id 128\n",
      "image_id 128\n",
      "image_id 128\n",
      "image_id 331\n",
      "image_id 331\n",
      "image_id 331\n",
      "image_id 331\n",
      "image_id 331\n",
      "image_id 331\n",
      "image_id 331\n",
      "  3/100 [..............................] - ETA: 194:54:05 - loss: 5.2018 - rpn_class_loss: 0.0728 - rpn_bbox_loss: 0.2348 - mrcnn_class_loss: 1.1044 - mrcnn_bbox_loss: 1.7249 - mrcnn_mask_loss: 2.0649image_id 204\n",
      "image_id 128\n",
      "image_id 123\n",
      "image_id 123\n",
      "image_id 123\n",
      "image_id 123\n",
      "image_id 123\n",
      "image_id 123\n",
      "image_id 123\n",
      "image_id 331\n",
      "  4/100 [>.............................] - ETA: 181:14:37 - loss: 4.9078 - rpn_class_loss: 0.0780 - rpn_bbox_loss: 0.2438 - mrcnn_class_loss: 0.9957 - mrcnn_bbox_loss: 1.6375 - mrcnn_mask_loss: 1.9528image_id 204\n",
      "image_id 128\n",
      "image_id 123\n"
     ]
    },
    {
     "name": "stderr",
     "output_type": "stream",
     "text": [
      "/home/hqq/.local/lib/python3.7/site-packages/imgaug/augmenters/base.py:59: SuspiciousSingleImageShapeWarning: You provided a numpy array of shape (512, 512, 121) as a single-image augmentation input, which was interpreted as (H, W, C). The last dimension however has a size of >=32, which indicates that you provided a multi-image array with shape (N, H, W) instead. If that is the case, you should use e.g. augmenter(imageS=<your input>) or augment_imageS(<your input>). Otherwise your multi-image input will be interpreted as a single image during augmentation.\n",
      "  category=SuspiciousSingleImageShapeWarning)\n",
      "/home/hqq/.local/lib/python3.7/site-packages/imgaug/augmenters/base.py:59: SuspiciousSingleImageShapeWarning: You provided a numpy array of shape (512, 512, 121) as a single-image augmentation input, which was interpreted as (H, W, C). The last dimension however has a size of >=32, which indicates that you provided a multi-image array with shape (N, H, W) instead. If that is the case, you should use e.g. augmenter(imageS=<your input>) or augment_imageS(<your input>). Otherwise your multi-image input will be interpreted as a single image during augmentation.\n",
      "  category=SuspiciousSingleImageShapeWarning)\n",
      "/home/hqq/.local/lib/python3.7/site-packages/imgaug/augmenters/base.py:59: SuspiciousSingleImageShapeWarning: You provided a numpy array of shape (512, 512, 121) as a single-image augmentation input, which was interpreted as (H, W, C). The last dimension however has a size of >=32, which indicates that you provided a multi-image array with shape (N, H, W) instead. If that is the case, you should use e.g. augmenter(imageS=<your input>) or augment_imageS(<your input>). Otherwise your multi-image input will be interpreted as a single image during augmentation.\n",
      "  category=SuspiciousSingleImageShapeWarning)\n",
      "/home/hqq/.local/lib/python3.7/site-packages/imgaug/augmenters/base.py:59: SuspiciousSingleImageShapeWarning: You provided a numpy array of shape (512, 512, 121) as a single-image augmentation input, which was interpreted as (H, W, C). The last dimension however has a size of >=32, which indicates that you provided a multi-image array with shape (N, H, W) instead. If that is the case, you should use e.g. augmenter(imageS=<your input>) or augment_imageS(<your input>). Otherwise your multi-image input will be interpreted as a single image during augmentation.\n",
      "  category=SuspiciousSingleImageShapeWarning)\n",
      "/home/hqq/.local/lib/python3.7/site-packages/imgaug/augmenters/base.py:59: SuspiciousSingleImageShapeWarning: You provided a numpy array of shape (512, 512, 121) as a single-image augmentation input, which was interpreted as (H, W, C). The last dimension however has a size of >=32, which indicates that you provided a multi-image array with shape (N, H, W) instead. If that is the case, you should use e.g. augmenter(imageS=<your input>) or augment_imageS(<your input>). Otherwise your multi-image input will be interpreted as a single image during augmentation.\n",
      "  category=SuspiciousSingleImageShapeWarning)\n",
      "/home/hqq/.local/lib/python3.7/site-packages/imgaug/augmenters/base.py:59: SuspiciousSingleImageShapeWarning: You provided a numpy array of shape (512, 512, 121) as a single-image augmentation input, which was interpreted as (H, W, C). The last dimension however has a size of >=32, which indicates that you provided a multi-image array with shape (N, H, W) instead. If that is the case, you should use e.g. augmenter(imageS=<your input>) or augment_imageS(<your input>). Otherwise your multi-image input will be interpreted as a single image during augmentation.\n",
      "  category=SuspiciousSingleImageShapeWarning)\n",
      "/home/hqq/.local/lib/python3.7/site-packages/imgaug/augmenters/base.py:59: SuspiciousSingleImageShapeWarning: You provided a numpy array of shape (512, 512, 121) as a single-image augmentation input, which was interpreted as (H, W, C). The last dimension however has a size of >=32, which indicates that you provided a multi-image array with shape (N, H, W) instead. If that is the case, you should use e.g. augmenter(imageS=<your input>) or augment_imageS(<your input>). Otherwise your multi-image input will be interpreted as a single image during augmentation.\n",
      "  category=SuspiciousSingleImageShapeWarning)\n"
     ]
    },
    {
     "name": "stdout",
     "output_type": "stream",
     "text": [
      "image_id 331\n",
      "  5/100 [>.............................] - ETA: 169:37:57 - loss: 4.6127 - rpn_class_loss: 0.0810 - rpn_bbox_loss: 0.2500 - mrcnn_class_loss: 0.9043 - mrcnn_bbox_loss: 1.5128 - mrcnn_mask_loss: 1.8647image_id 204\n",
      "image_id 128\n",
      "image_id 123\n"
     ]
    },
    {
     "name": "stderr",
     "output_type": "stream",
     "text": [
      "/home/hqq/.local/lib/python3.7/site-packages/imgaug/augmenters/base.py:59: SuspiciousSingleImageShapeWarning: You provided a numpy array of shape (512, 512, 121) as a single-image augmentation input, which was interpreted as (H, W, C). The last dimension however has a size of >=32, which indicates that you provided a multi-image array with shape (N, H, W) instead. If that is the case, you should use e.g. augmenter(imageS=<your input>) or augment_imageS(<your input>). Otherwise your multi-image input will be interpreted as a single image during augmentation.\n",
      "  category=SuspiciousSingleImageShapeWarning)\n"
     ]
    },
    {
     "name": "stdout",
     "output_type": "stream",
     "text": [
      "image_id 331\n",
      "  6/100 [>.............................] - ETA: 159:28:22 - loss: 4.3327 - rpn_class_loss: 0.0827 - rpn_bbox_loss: 0.2548 - mrcnn_class_loss: 0.8239 - mrcnn_bbox_loss: 1.3836 - mrcnn_mask_loss: 1.7876image_id 204\n",
      "image_id 128\n",
      "image_id 123\n"
     ]
    },
    {
     "name": "stderr",
     "output_type": "stream",
     "text": [
      "/home/hqq/.local/lib/python3.7/site-packages/imgaug/augmenters/base.py:59: SuspiciousSingleImageShapeWarning: You provided a numpy array of shape (512, 512, 121) as a single-image augmentation input, which was interpreted as (H, W, C). The last dimension however has a size of >=32, which indicates that you provided a multi-image array with shape (N, H, W) instead. If that is the case, you should use e.g. augmenter(imageS=<your input>) or augment_imageS(<your input>). Otherwise your multi-image input will be interpreted as a single image during augmentation.\n",
      "  category=SuspiciousSingleImageShapeWarning)\n"
     ]
    },
    {
     "name": "stdout",
     "output_type": "stream",
     "text": [
      "image_id 331\n",
      "  7/100 [=>............................] - ETA: 151:32:55 - loss: 4.0891 - rpn_class_loss: 0.0838 - rpn_bbox_loss: 0.2586 - mrcnn_class_loss: 0.7548 - mrcnn_bbox_loss: 1.2794 - mrcnn_mask_loss: 1.7125image_id 204\n",
      "image_id 128\n",
      "image_id 123\n"
     ]
    },
    {
     "name": "stderr",
     "output_type": "stream",
     "text": [
      "/home/hqq/.local/lib/python3.7/site-packages/imgaug/augmenters/base.py:59: SuspiciousSingleImageShapeWarning: You provided a numpy array of shape (512, 512, 121) as a single-image augmentation input, which was interpreted as (H, W, C). The last dimension however has a size of >=32, which indicates that you provided a multi-image array with shape (N, H, W) instead. If that is the case, you should use e.g. augmenter(imageS=<your input>) or augment_imageS(<your input>). Otherwise your multi-image input will be interpreted as a single image during augmentation.\n",
      "  category=SuspiciousSingleImageShapeWarning)\n"
     ]
    },
    {
     "name": "stdout",
     "output_type": "stream",
     "text": [
      "image_id 4\n",
      "image_id 4\n",
      "image_id 4\n",
      "image_id 4\n",
      "image_id 4\n",
      "image_id 2\n",
      "image_id 4\n",
      "image_id 4\n",
      "image_id 4\n",
      "image_id 4\n",
      "image_id 2\n",
      "image_id 4\n",
      "image_id 2\n",
      "image_id 4\n",
      "image_id 4\n",
      "image_id 4\n",
      "image_id 2\n",
      "image_id 4\n",
      "image_id 2\n",
      "image_id 4\n",
      "image_id 4\n",
      "image_id 2\n",
      "image_id 2\n",
      "image_id 2\n",
      "image_id 2\n",
      "image_id 4\n",
      "image_id 4\n",
      "image_id 2\n",
      "image_id 2\n",
      "image_id 4\n",
      "image_id 2\n",
      "image_id 2\n",
      "image_id 4\n",
      "image_id 2\n",
      "image_id 2\n",
      "image_id 4\n",
      "image_id 2\n",
      "image_id 4\n",
      "image_id 2\n",
      "image_id 2\n",
      "image_id 2\n",
      "image_id 2\n",
      "image_id 2\n",
      "image_id 4\n",
      "image_id 2\n",
      "image_id 2\n",
      "image_id 331\n",
      "image_id 0\n",
      "image_id 0\n",
      "image_id 0\n",
      "image_id 0\n",
      "image_id 0\n",
      "image_id 0\n",
      "image_id 0\n",
      "image_id 0\n",
      "image_id 0\n",
      "image_id 1\n",
      "image_id 0\n",
      "image_id 0\n",
      "image_id 0\n",
      "image_id 0\n",
      "image_id 0\n",
      "image_id 0\n",
      "image_id 1\n",
      "image_id 0\n",
      "image_id 1\n",
      "image_id 1\n",
      "image_id 0\n",
      "image_id 4\n",
      "image_id 1\n",
      "image_id 0\n",
      "image_id 1\n",
      "image_id 1\n",
      "image_id 1\n",
      "image_id 1\n",
      "image_id 0\n",
      "image_id 0\n",
      "image_id 0\n",
      "image_id 1\n",
      "image_id 1\n",
      "image_id 0\n",
      "image_id 1\n",
      "image_id 1\n",
      "image_id 1\n",
      "image_id 2\n",
      "image_id 1\n",
      "image_id 1\n",
      "  8/100 [=>............................] - ETA: 144:45:10 - loss: 3.9014 - rpn_class_loss: 0.0843 - rpn_bbox_loss: 0.2610 - mrcnn_class_loss: 0.7062 - mrcnn_bbox_loss: 1.2073 - mrcnn_mask_loss: 1.6427image_id 204\n",
      "image_id 128\n",
      "image_id 1\n",
      "image_id 1\n",
      "image_id 0\n",
      "image_id 1\n",
      "image_id 1\n",
      "image_id 1\n",
      "image_id 1\n",
      "image_id 1\n",
      "image_id 0\n",
      "image_id 123\n",
      "image_id 1\n"
     ]
    },
    {
     "name": "stderr",
     "output_type": "stream",
     "text": [
      "/home/hqq/.local/lib/python3.7/site-packages/imgaug/augmenters/base.py:59: SuspiciousSingleImageShapeWarning: You provided a numpy array of shape (512, 512, 121) as a single-image augmentation input, which was interpreted as (H, W, C). The last dimension however has a size of >=32, which indicates that you provided a multi-image array with shape (N, H, W) instead. If that is the case, you should use e.g. augmenter(imageS=<your input>) or augment_imageS(<your input>). Otherwise your multi-image input will be interpreted as a single image during augmentation.\n",
      "  category=SuspiciousSingleImageShapeWarning)\n"
     ]
    },
    {
     "name": "stdout",
     "output_type": "stream",
     "text": [
      "image_id 331\n",
      "  9/100 [=>............................] - ETA: 139:52:53 - loss: 3.7504 - rpn_class_loss: 0.0844 - rpn_bbox_loss: 0.2618 - mrcnn_class_loss: 0.6750 - mrcnn_bbox_loss: 1.1531 - mrcnn_mask_loss: 1.5761image_id 204\n",
      "image_id 128\n",
      "image_id 123\n"
     ]
    },
    {
     "name": "stderr",
     "output_type": "stream",
     "text": [
      "/home/hqq/.local/lib/python3.7/site-packages/imgaug/augmenters/base.py:59: SuspiciousSingleImageShapeWarning: You provided a numpy array of shape (512, 512, 121) as a single-image augmentation input, which was interpreted as (H, W, C). The last dimension however has a size of >=32, which indicates that you provided a multi-image array with shape (N, H, W) instead. If that is the case, you should use e.g. augmenter(imageS=<your input>) or augment_imageS(<your input>). Otherwise your multi-image input will be interpreted as a single image during augmentation.\n",
      "  category=SuspiciousSingleImageShapeWarning)\n"
     ]
    },
    {
     "name": "stdout",
     "output_type": "stream",
     "text": [
      "image_id 331\n",
      " 10/100 [==>...........................] - ETA: 135:29:13 - loss: 3.6160 - rpn_class_loss: 0.0844 - rpn_bbox_loss: 0.2614 - mrcnn_class_loss: 0.6461 - mrcnn_bbox_loss: 1.1078 - mrcnn_mask_loss: 1.5164image_id 204\n",
      "image_id 128\n",
      "image_id 123\n"
     ]
    },
    {
     "name": "stderr",
     "output_type": "stream",
     "text": [
      "/home/hqq/.local/lib/python3.7/site-packages/imgaug/augmenters/base.py:59: SuspiciousSingleImageShapeWarning: You provided a numpy array of shape (512, 512, 121) as a single-image augmentation input, which was interpreted as (H, W, C). The last dimension however has a size of >=32, which indicates that you provided a multi-image array with shape (N, H, W) instead. If that is the case, you should use e.g. augmenter(imageS=<your input>) or augment_imageS(<your input>). Otherwise your multi-image input will be interpreted as a single image during augmentation.\n",
      "  category=SuspiciousSingleImageShapeWarning)\n"
     ]
    },
    {
     "name": "stdout",
     "output_type": "stream",
     "text": [
      "image_id 331\n",
      " 11/100 [==>...........................] - ETA: 131:54:58 - loss: 3.4801 - rpn_class_loss: 0.0842 - rpn_bbox_loss: 0.2600 - mrcnn_class_loss: 0.6127 - mrcnn_bbox_loss: 1.0621 - mrcnn_mask_loss: 1.4611image_id 204\n",
      "image_id 128\n",
      "image_id 123\n"
     ]
    },
    {
     "name": "stderr",
     "output_type": "stream",
     "text": [
      "/home/hqq/.local/lib/python3.7/site-packages/imgaug/augmenters/base.py:59: SuspiciousSingleImageShapeWarning: You provided a numpy array of shape (512, 512, 121) as a single-image augmentation input, which was interpreted as (H, W, C). The last dimension however has a size of >=32, which indicates that you provided a multi-image array with shape (N, H, W) instead. If that is the case, you should use e.g. augmenter(imageS=<your input>) or augment_imageS(<your input>). Otherwise your multi-image input will be interpreted as a single image during augmentation.\n",
      "  category=SuspiciousSingleImageShapeWarning)\n"
     ]
    },
    {
     "name": "stdout",
     "output_type": "stream",
     "text": [
      "image_id 331\n",
      " 12/100 [==>...........................] - ETA: 128:44:57 - loss: 3.3423 - rpn_class_loss: 0.0838 - rpn_bbox_loss: 0.2582 - mrcnn_class_loss: 0.5779 - mrcnn_bbox_loss: 1.0144 - mrcnn_mask_loss: 1.4080image_id 204\n",
      "image_id 128\n",
      "image_id 123\n"
     ]
    },
    {
     "name": "stderr",
     "output_type": "stream",
     "text": [
      "/home/hqq/.local/lib/python3.7/site-packages/imgaug/augmenters/base.py:59: SuspiciousSingleImageShapeWarning: You provided a numpy array of shape (512, 512, 121) as a single-image augmentation input, which was interpreted as (H, W, C). The last dimension however has a size of >=32, which indicates that you provided a multi-image array with shape (N, H, W) instead. If that is the case, you should use e.g. augmenter(imageS=<your input>) or augment_imageS(<your input>). Otherwise your multi-image input will be interpreted as a single image during augmentation.\n",
      "  category=SuspiciousSingleImageShapeWarning)\n"
     ]
    },
    {
     "name": "stdout",
     "output_type": "stream",
     "text": [
      "image_id 331\n",
      " 13/100 [==>...........................] - ETA: 125:51:35 - loss: 3.2173 - rpn_class_loss: 0.0834 - rpn_bbox_loss: 0.2562 - mrcnn_class_loss: 0.5463 - mrcnn_bbox_loss: 0.9714 - mrcnn_mask_loss: 1.3600image_id 204\n",
      "image_id 128\n",
      "image_id 123\n"
     ]
    },
    {
     "name": "stderr",
     "output_type": "stream",
     "text": [
      "/home/hqq/.local/lib/python3.7/site-packages/imgaug/augmenters/base.py:59: SuspiciousSingleImageShapeWarning: You provided a numpy array of shape (512, 512, 121) as a single-image augmentation input, which was interpreted as (H, W, C). The last dimension however has a size of >=32, which indicates that you provided a multi-image array with shape (N, H, W) instead. If that is the case, you should use e.g. augmenter(imageS=<your input>) or augment_imageS(<your input>). Otherwise your multi-image input will be interpreted as a single image during augmentation.\n",
      "  category=SuspiciousSingleImageShapeWarning)\n"
     ]
    },
    {
     "name": "stdout",
     "output_type": "stream",
     "text": [
      "image_id 331\n",
      " 14/100 [===>..........................] - ETA: 123:11:45 - loss: 3.1049 - rpn_class_loss: 0.0829 - rpn_bbox_loss: 0.2543 - mrcnn_class_loss: 0.5198 - mrcnn_bbox_loss: 0.9322 - mrcnn_mask_loss: 1.3156image_id 204\n",
      "image_id 128\n",
      "image_id 123\n"
     ]
    },
    {
     "name": "stderr",
     "output_type": "stream",
     "text": [
      "/home/hqq/.local/lib/python3.7/site-packages/imgaug/augmenters/base.py:59: SuspiciousSingleImageShapeWarning: You provided a numpy array of shape (512, 512, 121) as a single-image augmentation input, which was interpreted as (H, W, C). The last dimension however has a size of >=32, which indicates that you provided a multi-image array with shape (N, H, W) instead. If that is the case, you should use e.g. augmenter(imageS=<your input>) or augment_imageS(<your input>). Otherwise your multi-image input will be interpreted as a single image during augmentation.\n",
      "  category=SuspiciousSingleImageShapeWarning)\n"
     ]
    },
    {
     "name": "stdout",
     "output_type": "stream",
     "text": [
      "image_id 2\n",
      "image_id 2\n",
      "image_id 2\n",
      "image_id 2\n",
      "image_id 2\n",
      "image_id 2\n",
      "image_id 2\n",
      "image_id 2\n",
      "image_id 2\n",
      "image_id 2\n",
      "image_id 2\n",
      "image_id 2\n",
      "image_id 2\n",
      "image_id 2\n",
      "image_id 2\n",
      "image_id 2\n",
      "image_id 2\n",
      "image_id 2\n",
      "image_id 2\n",
      "image_id 2\n",
      "image_id 2\n",
      "image_id 5\n",
      "image_id 5\n",
      "image_id 5\n",
      "image_id 2\n",
      "image_id 5\n",
      "image_id 2\n",
      "image_id 5\n",
      "image_id 5\n",
      "image_id 5\n",
      "image_id 5\n",
      "image_id 5\n",
      "image_id 5\n",
      "image_id 5\n",
      "image_id 5\n",
      "image_id 5\n",
      "image_id 6\n",
      "image_id 5\n",
      "image_id 331\n",
      "image_id 5\n",
      "image_id 6\n",
      "image_id 5\n",
      "image_id 5\n",
      "image_id 5\n",
      "image_id 5\n",
      "image_id 6\n",
      "image_id 6\n",
      "image_id 5\n",
      "image_id 5\n",
      "image_id 6\n",
      "image_id 4\n",
      "image_id 6\n",
      "image_id 6\n",
      "image_id 6\n",
      "image_id 6\n",
      "image_id 6\n",
      "image_id 6\n",
      "image_id 6\n",
      "image_id 6\n",
      "image_id 0\n",
      "image_id 6\n",
      "image_id 4\n",
      "image_id 4\n",
      "image_id 5\n",
      "image_id 4\n",
      "image_id 5\n",
      "image_id 3\n",
      "image_id 0\n",
      "image_id 6\n",
      "image_id 6\n",
      "image_id 6\n",
      "image_id 4\n",
      "image_id 4\n",
      "image_id 4\n",
      " 15/100 [===>..........................] - ETA: 120:20:48 - loss: 3.0013 - rpn_class_loss: 0.0824 - rpn_bbox_loss: 0.2524 - mrcnn_class_loss: 0.4959 - mrcnn_bbox_loss: 0.8954 - mrcnn_mask_loss: 1.2752image_id 204\n",
      "image_id 6\n",
      "image_id 4\n",
      "image_id 4\n",
      "image_id 0\n",
      "image_id 6\n",
      "image_id 4\n",
      "image_id 128\n",
      "image_id 4\n",
      "image_id 4\n",
      "image_id 0\n",
      "image_id 6\n",
      "image_id 6\n",
      "image_id 4\n",
      "image_id 0\n",
      "image_id 0\n",
      "image_id 0\n",
      "image_id 0\n",
      "image_id 0\n",
      "image_id 3\n",
      "image_id 0\n",
      "image_id 4\n",
      "image_id 0\n",
      "image_id 0\n",
      "image_id 3\n",
      "image_id 0\n",
      "image_id 3\n",
      "image_id 3\n",
      "image_id 0\n",
      "image_id 3\n",
      "image_id 3\n",
      "image_id 4\n",
      "image_id 3\n",
      "image_id 4\n",
      "image_id 4\n",
      "image_id 3\n",
      "image_id 3\n",
      "image_id 4\n",
      "image_id 4\n",
      "image_id 3\n",
      "image_id 6\n",
      "image_id 3\n",
      "image_id 3\n",
      "image_id 4\n",
      "image_id 6\n",
      "image_id 4\n",
      "image_id 2\n",
      "image_id 0\n",
      "image_id 0\n",
      "image_id 0\n",
      "image_id 0\n",
      "image_id 3\n",
      "image_id 0\n",
      "image_id 0\n",
      "image_id 0\n",
      "image_id 3\n",
      "image_id 3\n",
      "image_id 3\n",
      "image_id 3\n",
      "image_id 3\n",
      "image_id 4\n",
      "image_id 3\n",
      "image_id 3\n",
      "image_id 4\n",
      "image_id 0\n",
      "image_id 0\n",
      "image_id 123\n",
      "image_id 3\n",
      "image_id 3\n",
      "image_id 5\n",
      "image_id 6\n",
      "image_id 4\n"
     ]
    },
    {
     "name": "stderr",
     "output_type": "stream",
     "text": [
      "/home/hqq/.local/lib/python3.7/site-packages/imgaug/augmenters/base.py:59: SuspiciousSingleImageShapeWarning: You provided a numpy array of shape (512, 512, 121) as a single-image augmentation input, which was interpreted as (H, W, C). The last dimension however has a size of >=32, which indicates that you provided a multi-image array with shape (N, H, W) instead. If that is the case, you should use e.g. augmenter(imageS=<your input>) or augment_imageS(<your input>). Otherwise your multi-image input will be interpreted as a single image during augmentation.\n",
      "  category=SuspiciousSingleImageShapeWarning)\n"
     ]
    },
    {
     "name": "stdout",
     "output_type": "stream",
     "text": [
      "image_id 0\n",
      "image_id 3\n",
      "image_id 331\n",
      " 16/100 [===>..........................] - ETA: 117:34:26 - loss: 2.9029 - rpn_class_loss: 0.0819 - rpn_bbox_loss: 0.2505 - mrcnn_class_loss: 0.4732 - mrcnn_bbox_loss: 0.8592 - mrcnn_mask_loss: 1.2381image_id 204\n",
      "image_id 2\n",
      "image_id 128\n",
      "image_id 2\n",
      "image_id 2\n",
      "image_id 2\n",
      "image_id 2\n",
      "image_id 2\n",
      "image_id 2\n",
      "image_id 2\n",
      "image_id 2\n",
      "image_id 2\n",
      "image_id 2\n",
      "image_id 2\n",
      "image_id 2\n",
      "image_id 2\n",
      "image_id 2\n",
      "image_id 2\n",
      "image_id 2\n",
      "image_id 2\n",
      "image_id 2\n",
      "image_id 6\n",
      "image_id 2\n",
      "image_id 2\n",
      "image_id 6\n",
      "image_id 123\n",
      "image_id 6\n",
      "image_id 2\n",
      "image_id 6\n",
      "image_id 0\n",
      "image_id 6\n",
      "image_id 2\n",
      "image_id 6\n",
      "image_id 6\n",
      "image_id 6\n",
      "image_id 6\n",
      "image_id 6\n",
      "image_id 6\n",
      "image_id 6\n",
      "image_id 6\n",
      "image_id 1\n",
      "image_id 0\n",
      "image_id 6\n",
      "image_id 0\n",
      "image_id 0\n",
      "image_id 0\n",
      "image_id 6\n",
      "image_id 6\n",
      "image_id 1\n",
      "image_id 6\n",
      "image_id 6\n",
      "image_id 1\n",
      "image_id 6\n",
      "image_id 6\n",
      "image_id 6\n",
      "image_id 1\n",
      "image_id 1\n",
      "image_id 6\n",
      "image_id 6\n"
     ]
    },
    {
     "name": "stderr",
     "output_type": "stream",
     "text": [
      "/home/hqq/.local/lib/python3.7/site-packages/imgaug/augmenters/base.py:59: SuspiciousSingleImageShapeWarning: You provided a numpy array of shape (512, 512, 121) as a single-image augmentation input, which was interpreted as (H, W, C). The last dimension however has a size of >=32, which indicates that you provided a multi-image array with shape (N, H, W) instead. If that is the case, you should use e.g. augmenter(imageS=<your input>) or augment_imageS(<your input>). Otherwise your multi-image input will be interpreted as a single image during augmentation.\n",
      "  category=SuspiciousSingleImageShapeWarning)\n"
     ]
    },
    {
     "name": "stdout",
     "output_type": "stream",
     "text": [
      "image_id 2\n",
      "image_id 6\n",
      "image_id 331\n",
      " 17/100 [====>.........................] - ETA: 112:57:06 - loss: 2.8118 - rpn_class_loss: 0.0813 - rpn_bbox_loss: 0.2488 - mrcnn_class_loss: 0.4529 - mrcnn_bbox_loss: 0.8243 - mrcnn_mask_loss: 1.2044image_id 204\n",
      "image_id 128\n",
      "image_id 123\n"
     ]
    },
    {
     "name": "stderr",
     "output_type": "stream",
     "text": [
      "/home/hqq/.local/lib/python3.7/site-packages/imgaug/augmenters/base.py:59: SuspiciousSingleImageShapeWarning: You provided a numpy array of shape (512, 512, 121) as a single-image augmentation input, which was interpreted as (H, W, C). The last dimension however has a size of >=32, which indicates that you provided a multi-image array with shape (N, H, W) instead. If that is the case, you should use e.g. augmenter(imageS=<your input>) or augment_imageS(<your input>). Otherwise your multi-image input will be interpreted as a single image during augmentation.\n",
      "  category=SuspiciousSingleImageShapeWarning)\n"
     ]
    },
    {
     "name": "stdout",
     "output_type": "stream",
     "text": [
      "image_id 331\n",
      " 18/100 [====>.........................] - ETA: 107:08:18 - loss: 2.7299 - rpn_class_loss: 0.0808 - rpn_bbox_loss: 0.2476 - mrcnn_class_loss: 0.4334 - mrcnn_bbox_loss: 0.7944 - mrcnn_mask_loss: 1.1737image_id 204\n",
      "image_id 128\n",
      "image_id 123\n"
     ]
    },
    {
     "name": "stderr",
     "output_type": "stream",
     "text": [
      "/home/hqq/.local/lib/python3.7/site-packages/imgaug/augmenters/base.py:59: SuspiciousSingleImageShapeWarning: You provided a numpy array of shape (512, 512, 121) as a single-image augmentation input, which was interpreted as (H, W, C). The last dimension however has a size of >=32, which indicates that you provided a multi-image array with shape (N, H, W) instead. If that is the case, you should use e.g. augmenter(imageS=<your input>) or augment_imageS(<your input>). Otherwise your multi-image input will be interpreted as a single image during augmentation.\n",
      "  category=SuspiciousSingleImageShapeWarning)\n"
     ]
    },
    {
     "name": "stdout",
     "output_type": "stream",
     "text": [
      "image_id 331\n",
      " 19/100 [====>.........................] - ETA: 101:53:48 - loss: 2.6566 - rpn_class_loss: 0.0803 - rpn_bbox_loss: 0.2465 - mrcnn_class_loss: 0.4172 - mrcnn_bbox_loss: 0.7671 - mrcnn_mask_loss: 1.1456image_id 204\n",
      "image_id 128\n",
      "image_id 123\n"
     ]
    },
    {
     "name": "stderr",
     "output_type": "stream",
     "text": [
      "/home/hqq/.local/lib/python3.7/site-packages/imgaug/augmenters/base.py:59: SuspiciousSingleImageShapeWarning: You provided a numpy array of shape (512, 512, 121) as a single-image augmentation input, which was interpreted as (H, W, C). The last dimension however has a size of >=32, which indicates that you provided a multi-image array with shape (N, H, W) instead. If that is the case, you should use e.g. augmenter(imageS=<your input>) or augment_imageS(<your input>). Otherwise your multi-image input will be interpreted as a single image during augmentation.\n",
      "  category=SuspiciousSingleImageShapeWarning)\n"
     ]
    },
    {
     "name": "stdout",
     "output_type": "stream",
     "text": [
      "image_id 331\n",
      " 20/100 [=====>........................] - ETA: 97:07:32 - loss: 2.5868 - rpn_class_loss: 0.0798 - rpn_bbox_loss: 0.2452 - mrcnn_class_loss: 0.4019 - mrcnn_bbox_loss: 0.7406 - mrcnn_mask_loss: 1.1193 image_id 381\n",
      "image_id 398\n",
      "image_id 123\n",
      "image_id 64\n"
     ]
    },
    {
     "name": "stderr",
     "output_type": "stream",
     "text": [
      "/home/hqq/.local/lib/python3.7/site-packages/imgaug/augmenters/base.py:59: SuspiciousSingleImageShapeWarning: You provided a numpy array of shape (512, 512, 121) as a single-image augmentation input, which was interpreted as (H, W, C). The last dimension however has a size of >=32, which indicates that you provided a multi-image array with shape (N, H, W) instead. If that is the case, you should use e.g. augmenter(imageS=<your input>) or augment_imageS(<your input>). Otherwise your multi-image input will be interpreted as a single image during augmentation.\n",
      "  category=SuspiciousSingleImageShapeWarning)\n"
     ]
    },
    {
     "name": "stdout",
     "output_type": "stream",
     "text": [
      "image_id 268\n",
      " 21/100 [=====>........................] - ETA: 92:43:21 - loss: 2.5213 - rpn_class_loss: 0.0792 - rpn_bbox_loss: 0.2435 - mrcnn_class_loss: 0.3886 - mrcnn_bbox_loss: 0.7151 - mrcnn_mask_loss: 1.0948image_id 381\n",
      "image_id 398\n",
      "image_id 64\n"
     ]
    },
    {
     "name": "stderr",
     "output_type": "stream",
     "text": [
      "/home/hqq/.local/lib/python3.7/site-packages/imgaug/augmenters/base.py:59: SuspiciousSingleImageShapeWarning: You provided a numpy array of shape (512, 512, 121) as a single-image augmentation input, which was interpreted as (H, W, C). The last dimension however has a size of >=32, which indicates that you provided a multi-image array with shape (N, H, W) instead. If that is the case, you should use e.g. augmenter(imageS=<your input>) or augment_imageS(<your input>). Otherwise your multi-image input will be interpreted as a single image during augmentation.\n",
      "  category=SuspiciousSingleImageShapeWarning)\n"
     ]
    },
    {
     "name": "stdout",
     "output_type": "stream",
     "text": [
      "image_id 268\n",
      " 22/100 [=====>........................] - ETA: 88:32:42 - loss: 2.4627 - rpn_class_loss: 0.0787 - rpn_bbox_loss: 0.2415 - mrcnn_class_loss: 0.3759 - mrcnn_bbox_loss: 0.6943 - mrcnn_mask_loss: 1.0723image_id 381\n",
      "image_id 398\n",
      "image_id 64\n",
      "image_id 268\n",
      " 23/100 [=====>........................] - ETA: 84:38:23 - loss: 2.4070 - rpn_class_loss: 0.0781 - rpn_bbox_loss: 0.2394 - mrcnn_class_loss: 0.3635 - mrcnn_bbox_loss: 0.6748 - mrcnn_mask_loss: 1.0513image_id 381\n",
      "image_id 398\n",
      "image_id 5\n",
      "image_id 5\n",
      "image_id 5\n",
      "image_id 5\n",
      "image_id 4\n",
      "image_id 4\n",
      "image_id 5\n",
      "image_id 4\n",
      "image_id 64\n",
      "image_id 4\n",
      "image_id 4\n",
      "image_id 268\n",
      " 24/100 [======>.......................] - ETA: 80:30:54 - loss: 2.3523 - rpn_class_loss: 0.0775 - rpn_bbox_loss: 0.2373 - mrcnn_class_loss: 0.3521 - mrcnn_bbox_loss: 0.6543 - mrcnn_mask_loss: 1.0309image_id 381\n",
      "image_id 398\n",
      "image_id 64\n",
      "image_id 268\n",
      " 25/100 [======>.......................] - ETA: 76:30:19 - loss: 2.3014 - rpn_class_loss: 0.0769 - rpn_bbox_loss: 0.2352 - mrcnn_class_loss: 0.3420 - mrcnn_bbox_loss: 0.6352 - mrcnn_mask_loss: 1.0120image_id 381\n",
      "image_id 398\n",
      "image_id 64\n",
      "image_id 268\n",
      " 26/100 [======>.......................] - ETA: 72:47:53 - loss: 2.2725 - rpn_class_loss: 0.0752 - rpn_bbox_loss: 0.2352 - mrcnn_class_loss: 0.3375 - mrcnn_bbox_loss: 0.6270 - mrcnn_mask_loss: 0.9977image_id 381\n",
      "image_id 398\n",
      "image_id 64\n",
      "image_id 268\n",
      " 27/100 [=======>......................] - ETA: 69:21:36 - loss: 2.2436 - rpn_class_loss: 0.0735 - rpn_bbox_loss: 0.2351 - mrcnn_class_loss: 0.3323 - mrcnn_bbox_loss: 0.6185 - mrcnn_mask_loss: 0.9842image_id 381\n",
      "image_id 398\n",
      "image_id 64\n",
      "image_id 268\n",
      " 28/100 [=======>......................] - ETA: 66:09:44 - loss: 2.2137 - rpn_class_loss: 0.0720 - rpn_bbox_loss: 0.2346 - mrcnn_class_loss: 0.3256 - mrcnn_bbox_loss: 0.6103 - mrcnn_mask_loss: 0.9713image_id 381\n",
      "image_id 398\n",
      "image_id 64\n",
      "image_id 268\n",
      " 29/100 [=======>......................] - ETA: 63:10:48 - loss: 2.1835 - rpn_class_loss: 0.0705 - rpn_bbox_loss: 0.2338 - mrcnn_class_loss: 0.3188 - mrcnn_bbox_loss: 0.6014 - mrcnn_mask_loss: 0.9591image_id 381\n",
      "image_id 398\n",
      "image_id 64\n",
      "image_id 268\n",
      " 30/100 [========>.....................] - ETA: 60:23:27 - loss: 2.1535 - rpn_class_loss: 0.0691 - rpn_bbox_loss: 0.2326 - mrcnn_class_loss: 0.3136 - mrcnn_bbox_loss: 0.5910 - mrcnn_mask_loss: 0.9471image_id 381\n",
      "image_id 398\n",
      "image_id 64\n",
      "image_id 268\n",
      " 31/100 [========>.....................] - ETA: 57:46:38 - loss: 2.1246 - rpn_class_loss: 0.0678 - rpn_bbox_loss: 0.2311 - mrcnn_class_loss: 0.3093 - mrcnn_bbox_loss: 0.5810 - mrcnn_mask_loss: 0.9355image_id 381\n",
      "image_id 398\n",
      "image_id 64\n",
      "image_id 268\n",
      " 32/100 [========>.....................] - ETA: 55:19:19 - loss: 2.0958 - rpn_class_loss: 0.0665 - rpn_bbox_loss: 0.2293 - mrcnn_class_loss: 0.3042 - mrcnn_bbox_loss: 0.5717 - mrcnn_mask_loss: 0.9241image_id 381\n",
      "image_id 398\n",
      "image_id 64\n",
      "image_id 268\n",
      " 33/100 [========>.....................] - ETA: 53:00:41 - loss: 2.0658 - rpn_class_loss: 0.0653 - rpn_bbox_loss: 0.2273 - mrcnn_class_loss: 0.2987 - mrcnn_bbox_loss: 0.5617 - mrcnn_mask_loss: 0.9128image_id 381\n",
      "image_id 398\n",
      "image_id 64\n",
      "image_id 268\n",
      " 34/100 [=========>....................] - ETA: 50:49:57 - loss: 2.0365 - rpn_class_loss: 0.0641 - rpn_bbox_loss: 0.2251 - mrcnn_class_loss: 0.2934 - mrcnn_bbox_loss: 0.5522 - mrcnn_mask_loss: 0.9017image_id 381\n",
      "image_id 398\n",
      "image_id 64\n",
      "image_id 268\n",
      " 35/100 [=========>....................] - ETA: 48:46:25 - loss: 2.0082 - rpn_class_loss: 0.0630 - rpn_bbox_loss: 0.2228 - mrcnn_class_loss: 0.2884 - mrcnn_bbox_loss: 0.5432 - mrcnn_mask_loss: 0.8908image_id 381\n",
      "image_id 398\n",
      "image_id 64\n",
      "image_id 268\n",
      " 36/100 [=========>....................] - ETA: 46:49:31 - loss: 1.9797 - rpn_class_loss: 0.0618 - rpn_bbox_loss: 0.2205 - mrcnn_class_loss: 0.2836 - mrcnn_bbox_loss: 0.5337 - mrcnn_mask_loss: 0.8800image_id 381\n",
      "image_id 398\n",
      "image_id 64\n",
      "image_id 268\n",
      " 37/100 [==========>...................] - ETA: 44:58:39 - loss: 1.9505 - rpn_class_loss: 0.0608 - rpn_bbox_loss: 0.2180 - mrcnn_class_loss: 0.2787 - mrcnn_bbox_loss: 0.5237 - mrcnn_mask_loss: 0.8693image_id 381\n",
      "image_id 398\n",
      "image_id 64\n",
      "image_id 268\n",
      " 38/100 [==========>...................] - ETA: 43:13:25 - loss: 1.9211 - rpn_class_loss: 0.0597 - rpn_bbox_loss: 0.2155 - mrcnn_class_loss: 0.2734 - mrcnn_bbox_loss: 0.5141 - mrcnn_mask_loss: 0.8584image_id 381\n",
      "image_id 398\n",
      "image_id 64\n",
      "image_id 268\n",
      " 39/100 [==========>...................] - ETA: 41:33:19 - loss: 1.8932 - rpn_class_loss: 0.0587 - rpn_bbox_loss: 0.2129 - mrcnn_class_loss: 0.2686 - mrcnn_bbox_loss: 0.5054 - mrcnn_mask_loss: 0.8477image_id 381\n",
      "image_id 398\n",
      "image_id 64\n",
      "image_id 268\n",
      " 40/100 [===========>..................] - ETA: 39:58:02 - loss: 1.8649 - rpn_class_loss: 0.0577 - rpn_bbox_loss: 0.2102 - mrcnn_class_loss: 0.2636 - mrcnn_bbox_loss: 0.4964 - mrcnn_mask_loss: 0.8370image_id 381\n",
      "image_id 398\n",
      "image_id 64\n",
      "image_id 268\n",
      " 41/100 [===========>..................] - ETA: 38:27:11 - loss: 1.8376 - rpn_class_loss: 0.0568 - rpn_bbox_loss: 0.2075 - mrcnn_class_loss: 0.2594 - mrcnn_bbox_loss: 0.4878 - mrcnn_mask_loss: 0.8261image_id 381\n",
      "image_id 398\n",
      "image_id 64\n",
      "image_id 268\n",
      " 42/100 [===========>..................] - ETA: 37:00:22 - loss: 1.8104 - rpn_class_loss: 0.0558 - rpn_bbox_loss: 0.2048 - mrcnn_class_loss: 0.2553 - mrcnn_bbox_loss: 0.4792 - mrcnn_mask_loss: 0.8152image_id 381\n",
      "image_id 398\n",
      "image_id 64\n",
      "image_id 268\n",
      " 43/100 [===========>..................] - ETA: 35:37:10 - loss: 1.7839 - rpn_class_loss: 0.0549 - rpn_bbox_loss: 0.2021 - mrcnn_class_loss: 0.2511 - mrcnn_bbox_loss: 0.4710 - mrcnn_mask_loss: 0.8047image_id 281\n"
     ]
    },
    {
     "name": "stderr",
     "output_type": "stream",
     "text": [
      "/home/hqq/.local/lib/python3.7/site-packages/imgaug/augmenters/base.py:59: SuspiciousSingleImageShapeWarning: You provided a numpy array of shape (512, 512, 32) as a single-image augmentation input, which was interpreted as (H, W, C). The last dimension however has a size of >=32, which indicates that you provided a multi-image array with shape (N, H, W) instead. If that is the case, you should use e.g. augmenter(imageS=<your input>) or augment_imageS(<your input>). Otherwise your multi-image input will be interpreted as a single image during augmentation.\n",
      "  category=SuspiciousSingleImageShapeWarning)\n"
     ]
    },
    {
     "name": "stdout",
     "output_type": "stream",
     "text": [
      "image_id 75\n",
      "image_id 255\n",
      "image_id 379\n",
      " 44/100 [============>.................] - ETA: 34:17:00 - loss: 1.7586 - rpn_class_loss: 0.0541 - rpn_bbox_loss: 0.1993 - mrcnn_class_loss: 0.2474 - mrcnn_bbox_loss: 0.4634 - mrcnn_mask_loss: 0.7944image_id 381\n",
      "image_id 398\n",
      "image_id 64\n",
      "image_id 268\n",
      " 45/100 [============>.................] - ETA: 33:00:46 - loss: 1.7332 - rpn_class_loss: 0.0532 - rpn_bbox_loss: 0.1967 - mrcnn_class_loss: 0.2435 - mrcnn_bbox_loss: 0.4555 - mrcnn_mask_loss: 0.7844image_id 281\n"
     ]
    },
    {
     "name": "stderr",
     "output_type": "stream",
     "text": [
      "/home/hqq/.local/lib/python3.7/site-packages/imgaug/augmenters/base.py:59: SuspiciousSingleImageShapeWarning: You provided a numpy array of shape (512, 512, 32) as a single-image augmentation input, which was interpreted as (H, W, C). The last dimension however has a size of >=32, which indicates that you provided a multi-image array with shape (N, H, W) instead. If that is the case, you should use e.g. augmenter(imageS=<your input>) or augment_imageS(<your input>). Otherwise your multi-image input will be interpreted as a single image during augmentation.\n",
      "  category=SuspiciousSingleImageShapeWarning)\n"
     ]
    },
    {
     "name": "stdout",
     "output_type": "stream",
     "text": [
      "image_id 75\n",
      "image_id 255\n",
      "image_id 379\n",
      " 46/100 [============>.................] - ETA: 31:47:08 - loss: 1.7085 - rpn_class_loss: 0.0524 - rpn_bbox_loss: 0.1940 - mrcnn_class_loss: 0.2396 - mrcnn_bbox_loss: 0.4480 - mrcnn_mask_loss: 0.7745image_id 281\n"
     ]
    },
    {
     "name": "stderr",
     "output_type": "stream",
     "text": [
      "/home/hqq/.local/lib/python3.7/site-packages/imgaug/augmenters/base.py:59: SuspiciousSingleImageShapeWarning: You provided a numpy array of shape (512, 512, 32) as a single-image augmentation input, which was interpreted as (H, W, C). The last dimension however has a size of >=32, which indicates that you provided a multi-image array with shape (N, H, W) instead. If that is the case, you should use e.g. augmenter(imageS=<your input>) or augment_imageS(<your input>). Otherwise your multi-image input will be interpreted as a single image during augmentation.\n",
      "  category=SuspiciousSingleImageShapeWarning)\n"
     ]
    },
    {
     "name": "stdout",
     "output_type": "stream",
     "text": [
      "image_id 75\n",
      "image_id 255\n",
      "image_id 379\n",
      " 47/100 [=============>................] - ETA: 30:36:28 - loss: 1.6851 - rpn_class_loss: 0.0516 - rpn_bbox_loss: 0.1914 - mrcnn_class_loss: 0.2362 - mrcnn_bbox_loss: 0.4409 - mrcnn_mask_loss: 0.7650image_id 281\n"
     ]
    },
    {
     "name": "stderr",
     "output_type": "stream",
     "text": [
      "/home/hqq/.local/lib/python3.7/site-packages/imgaug/augmenters/base.py:59: SuspiciousSingleImageShapeWarning: You provided a numpy array of shape (512, 512, 32) as a single-image augmentation input, which was interpreted as (H, W, C). The last dimension however has a size of >=32, which indicates that you provided a multi-image array with shape (N, H, W) instead. If that is the case, you should use e.g. augmenter(imageS=<your input>) or augment_imageS(<your input>). Otherwise your multi-image input will be interpreted as a single image during augmentation.\n",
      "  category=SuspiciousSingleImageShapeWarning)\n"
     ]
    },
    {
     "name": "stdout",
     "output_type": "stream",
     "text": [
      "image_id 75\n",
      "image_id 255\n",
      "image_id 379\n",
      " 48/100 [=============>................] - ETA: 29:28:35 - loss: 1.6612 - rpn_class_loss: 0.0508 - rpn_bbox_loss: 0.1889 - mrcnn_class_loss: 0.2322 - mrcnn_bbox_loss: 0.4337 - mrcnn_mask_loss: 0.7556image_id 281\n"
     ]
    },
    {
     "name": "stderr",
     "output_type": "stream",
     "text": [
      "/home/hqq/.local/lib/python3.7/site-packages/imgaug/augmenters/base.py:59: SuspiciousSingleImageShapeWarning: You provided a numpy array of shape (512, 512, 32) as a single-image augmentation input, which was interpreted as (H, W, C). The last dimension however has a size of >=32, which indicates that you provided a multi-image array with shape (N, H, W) instead. If that is the case, you should use e.g. augmenter(imageS=<your input>) or augment_imageS(<your input>). Otherwise your multi-image input will be interpreted as a single image during augmentation.\n",
      "  category=SuspiciousSingleImageShapeWarning)\n"
     ]
    },
    {
     "name": "stdout",
     "output_type": "stream",
     "text": [
      "image_id 75\n",
      "image_id 255\n",
      "image_id 379\n",
      " 49/100 [=============>................] - ETA: 28:23:18 - loss: 1.6388 - rpn_class_loss: 0.0501 - rpn_bbox_loss: 0.1864 - mrcnn_class_loss: 0.2290 - mrcnn_bbox_loss: 0.4265 - mrcnn_mask_loss: 0.7468image_id 281\n"
     ]
    },
    {
     "name": "stderr",
     "output_type": "stream",
     "text": [
      "/home/hqq/.local/lib/python3.7/site-packages/imgaug/augmenters/base.py:59: SuspiciousSingleImageShapeWarning: You provided a numpy array of shape (512, 512, 32) as a single-image augmentation input, which was interpreted as (H, W, C). The last dimension however has a size of >=32, which indicates that you provided a multi-image array with shape (N, H, W) instead. If that is the case, you should use e.g. augmenter(imageS=<your input>) or augment_imageS(<your input>). Otherwise your multi-image input will be interpreted as a single image during augmentation.\n",
      "  category=SuspiciousSingleImageShapeWarning)\n"
     ]
    },
    {
     "name": "stdout",
     "output_type": "stream",
     "text": [
      "image_id 75\n",
      "image_id 255\n",
      "image_id 379\n",
      " 50/100 [==============>...............] - ETA: 27:20:30 - loss: 1.6353 - rpn_class_loss: 0.0494 - rpn_bbox_loss: 0.1874 - mrcnn_class_loss: 0.2261 - mrcnn_bbox_loss: 0.4249 - mrcnn_mask_loss: 0.7475image_id 281\n"
     ]
    },
    {
     "name": "stderr",
     "output_type": "stream",
     "text": [
      "/home/hqq/.local/lib/python3.7/site-packages/imgaug/augmenters/base.py:59: SuspiciousSingleImageShapeWarning: You provided a numpy array of shape (512, 512, 32) as a single-image augmentation input, which was interpreted as (H, W, C). The last dimension however has a size of >=32, which indicates that you provided a multi-image array with shape (N, H, W) instead. If that is the case, you should use e.g. augmenter(imageS=<your input>) or augment_imageS(<your input>). Otherwise your multi-image input will be interpreted as a single image during augmentation.\n",
      "  category=SuspiciousSingleImageShapeWarning)\n"
     ]
    },
    {
     "name": "stdout",
     "output_type": "stream",
     "text": [
      "image_id 75\n",
      "image_id 255\n",
      "image_id 379\n",
      " 51/100 [==============>...............] - ETA: 26:19:59 - loss: 1.6296 - rpn_class_loss: 0.0487 - rpn_bbox_loss: 0.1884 - mrcnn_class_loss: 0.2235 - mrcnn_bbox_loss: 0.4229 - mrcnn_mask_loss: 0.7461image_id 281\n"
     ]
    },
    {
     "name": "stderr",
     "output_type": "stream",
     "text": [
      "/home/hqq/.local/lib/python3.7/site-packages/imgaug/augmenters/base.py:59: SuspiciousSingleImageShapeWarning: You provided a numpy array of shape (512, 512, 32) as a single-image augmentation input, which was interpreted as (H, W, C). The last dimension however has a size of >=32, which indicates that you provided a multi-image array with shape (N, H, W) instead. If that is the case, you should use e.g. augmenter(imageS=<your input>) or augment_imageS(<your input>). Otherwise your multi-image input will be interpreted as a single image during augmentation.\n",
      "  category=SuspiciousSingleImageShapeWarning)\n"
     ]
    },
    {
     "name": "stdout",
     "output_type": "stream",
     "text": [
      "image_id 75\n",
      "image_id 255\n",
      "image_id 379\n",
      " 52/100 [==============>...............] - ETA: 25:21:54 - loss: 1.6208 - rpn_class_loss: 0.0481 - rpn_bbox_loss: 0.1892 - mrcnn_class_loss: 0.2209 - mrcnn_bbox_loss: 0.4201 - mrcnn_mask_loss: 0.7425image_id 281\n"
     ]
    },
    {
     "name": "stderr",
     "output_type": "stream",
     "text": [
      "/home/hqq/.local/lib/python3.7/site-packages/imgaug/augmenters/base.py:59: SuspiciousSingleImageShapeWarning: You provided a numpy array of shape (512, 512, 32) as a single-image augmentation input, which was interpreted as (H, W, C). The last dimension however has a size of >=32, which indicates that you provided a multi-image array with shape (N, H, W) instead. If that is the case, you should use e.g. augmenter(imageS=<your input>) or augment_imageS(<your input>). Otherwise your multi-image input will be interpreted as a single image during augmentation.\n",
      "  category=SuspiciousSingleImageShapeWarning)\n"
     ]
    },
    {
     "name": "stdout",
     "output_type": "stream",
     "text": [
      "image_id 75\n",
      "image_id 255\n",
      "image_id 379\n",
      " 53/100 [==============>...............] - ETA: 24:25:58 - loss: 1.6098 - rpn_class_loss: 0.0474 - rpn_bbox_loss: 0.1898 - mrcnn_class_loss: 0.2182 - mrcnn_bbox_loss: 0.4170 - mrcnn_mask_loss: 0.7374image_id 281\n"
     ]
    },
    {
     "name": "stderr",
     "output_type": "stream",
     "text": [
      "/home/hqq/.local/lib/python3.7/site-packages/imgaug/augmenters/base.py:59: SuspiciousSingleImageShapeWarning: You provided a numpy array of shape (512, 512, 32) as a single-image augmentation input, which was interpreted as (H, W, C). The last dimension however has a size of >=32, which indicates that you provided a multi-image array with shape (N, H, W) instead. If that is the case, you should use e.g. augmenter(imageS=<your input>) or augment_imageS(<your input>). Otherwise your multi-image input will be interpreted as a single image during augmentation.\n",
      "  category=SuspiciousSingleImageShapeWarning)\n"
     ]
    },
    {
     "name": "stdout",
     "output_type": "stream",
     "text": [
      "image_id 75\n",
      "image_id 255\n",
      "image_id 379\n",
      " 54/100 [===============>..............] - ETA: 23:31:57 - loss: 1.5993 - rpn_class_loss: 0.0467 - rpn_bbox_loss: 0.1899 - mrcnn_class_loss: 0.2158 - mrcnn_bbox_loss: 0.4136 - mrcnn_mask_loss: 0.7333image_id 281\n"
     ]
    },
    {
     "name": "stderr",
     "output_type": "stream",
     "text": [
      "/home/hqq/.local/lib/python3.7/site-packages/imgaug/augmenters/base.py:59: SuspiciousSingleImageShapeWarning: You provided a numpy array of shape (512, 512, 32) as a single-image augmentation input, which was interpreted as (H, W, C). The last dimension however has a size of >=32, which indicates that you provided a multi-image array with shape (N, H, W) instead. If that is the case, you should use e.g. augmenter(imageS=<your input>) or augment_imageS(<your input>). Otherwise your multi-image input will be interpreted as a single image during augmentation.\n",
      "  category=SuspiciousSingleImageShapeWarning)\n"
     ]
    },
    {
     "name": "stdout",
     "output_type": "stream",
     "text": [
      "image_id 75\n",
      "image_id 255\n",
      "image_id 379\n",
      " 55/100 [===============>..............] - ETA: 22:39:44 - loss: 1.5886 - rpn_class_loss: 0.0461 - rpn_bbox_loss: 0.1895 - mrcnn_class_loss: 0.2133 - mrcnn_bbox_loss: 0.4098 - mrcnn_mask_loss: 0.7299image_id 281\n"
     ]
    },
    {
     "name": "stderr",
     "output_type": "stream",
     "text": [
      "/home/hqq/.local/lib/python3.7/site-packages/imgaug/augmenters/base.py:59: SuspiciousSingleImageShapeWarning: You provided a numpy array of shape (512, 512, 32) as a single-image augmentation input, which was interpreted as (H, W, C). The last dimension however has a size of >=32, which indicates that you provided a multi-image array with shape (N, H, W) instead. If that is the case, you should use e.g. augmenter(imageS=<your input>) or augment_imageS(<your input>). Otherwise your multi-image input will be interpreted as a single image during augmentation.\n",
      "  category=SuspiciousSingleImageShapeWarning)\n"
     ]
    },
    {
     "name": "stdout",
     "output_type": "stream",
     "text": [
      "image_id 75\n",
      "image_id 255\n",
      "image_id 379\n",
      " 56/100 [===============>..............] - ETA: 21:49:14 - loss: 1.5762 - rpn_class_loss: 0.0454 - rpn_bbox_loss: 0.1886 - mrcnn_class_loss: 0.2109 - mrcnn_bbox_loss: 0.4056 - mrcnn_mask_loss: 0.7257image_id 281\n"
     ]
    },
    {
     "name": "stderr",
     "output_type": "stream",
     "text": [
      "/home/hqq/.local/lib/python3.7/site-packages/imgaug/augmenters/base.py:59: SuspiciousSingleImageShapeWarning: You provided a numpy array of shape (512, 512, 32) as a single-image augmentation input, which was interpreted as (H, W, C). The last dimension however has a size of >=32, which indicates that you provided a multi-image array with shape (N, H, W) instead. If that is the case, you should use e.g. augmenter(imageS=<your input>) or augment_imageS(<your input>). Otherwise your multi-image input will be interpreted as a single image during augmentation.\n",
      "  category=SuspiciousSingleImageShapeWarning)\n"
     ]
    },
    {
     "name": "stdout",
     "output_type": "stream",
     "text": [
      "image_id 75\n",
      "image_id 255\n",
      "image_id 379\n",
      " 57/100 [================>.............] - ETA: 21:00:20 - loss: 1.5625 - rpn_class_loss: 0.0448 - rpn_bbox_loss: 0.1873 - mrcnn_class_loss: 0.2087 - mrcnn_bbox_loss: 0.4013 - mrcnn_mask_loss: 0.7203image_id 281\n"
     ]
    },
    {
     "name": "stderr",
     "output_type": "stream",
     "text": [
      "/home/hqq/.local/lib/python3.7/site-packages/imgaug/augmenters/base.py:59: SuspiciousSingleImageShapeWarning: You provided a numpy array of shape (512, 512, 32) as a single-image augmentation input, which was interpreted as (H, W, C). The last dimension however has a size of >=32, which indicates that you provided a multi-image array with shape (N, H, W) instead. If that is the case, you should use e.g. augmenter(imageS=<your input>) or augment_imageS(<your input>). Otherwise your multi-image input will be interpreted as a single image during augmentation.\n",
      "  category=SuspiciousSingleImageShapeWarning)\n"
     ]
    },
    {
     "name": "stdout",
     "output_type": "stream",
     "text": [
      "image_id 75\n",
      "image_id 255\n",
      "image_id 379\n",
      " 58/100 [================>.............] - ETA: 20:12:58 - loss: 1.5477 - rpn_class_loss: 0.0442 - rpn_bbox_loss: 0.1859 - mrcnn_class_loss: 0.2064 - mrcnn_bbox_loss: 0.3967 - mrcnn_mask_loss: 0.7145image_id 281\n"
     ]
    },
    {
     "name": "stderr",
     "output_type": "stream",
     "text": [
      "/home/hqq/.local/lib/python3.7/site-packages/imgaug/augmenters/base.py:59: SuspiciousSingleImageShapeWarning: You provided a numpy array of shape (512, 512, 32) as a single-image augmentation input, which was interpreted as (H, W, C). The last dimension however has a size of >=32, which indicates that you provided a multi-image array with shape (N, H, W) instead. If that is the case, you should use e.g. augmenter(imageS=<your input>) or augment_imageS(<your input>). Otherwise your multi-image input will be interpreted as a single image during augmentation.\n",
      "  category=SuspiciousSingleImageShapeWarning)\n"
     ]
    },
    {
     "name": "stdout",
     "output_type": "stream",
     "text": [
      "image_id 75\n",
      "image_id 255\n",
      "image_id 379\n",
      " 59/100 [================>.............] - ETA: 19:27:05 - loss: 1.5328 - rpn_class_loss: 0.0435 - rpn_bbox_loss: 0.1843 - mrcnn_class_loss: 0.2035 - mrcnn_bbox_loss: 0.3920 - mrcnn_mask_loss: 0.7094image_id 281\n"
     ]
    },
    {
     "name": "stderr",
     "output_type": "stream",
     "text": [
      "/home/hqq/.local/lib/python3.7/site-packages/imgaug/augmenters/base.py:59: SuspiciousSingleImageShapeWarning: You provided a numpy array of shape (512, 512, 32) as a single-image augmentation input, which was interpreted as (H, W, C). The last dimension however has a size of >=32, which indicates that you provided a multi-image array with shape (N, H, W) instead. If that is the case, you should use e.g. augmenter(imageS=<your input>) or augment_imageS(<your input>). Otherwise your multi-image input will be interpreted as a single image during augmentation.\n",
      "  category=SuspiciousSingleImageShapeWarning)\n"
     ]
    },
    {
     "name": "stdout",
     "output_type": "stream",
     "text": [
      "image_id 75\n",
      "image_id 255\n",
      "image_id 379\n",
      " 60/100 [=================>............] - ETA: 18:42:31 - loss: 1.5179 - rpn_class_loss: 0.0429 - rpn_bbox_loss: 0.1825 - mrcnn_class_loss: 0.2010 - mrcnn_bbox_loss: 0.3873 - mrcnn_mask_loss: 0.7042image_id 281\n"
     ]
    },
    {
     "name": "stderr",
     "output_type": "stream",
     "text": [
      "/home/hqq/.local/lib/python3.7/site-packages/imgaug/augmenters/base.py:59: SuspiciousSingleImageShapeWarning: You provided a numpy array of shape (512, 512, 32) as a single-image augmentation input, which was interpreted as (H, W, C). The last dimension however has a size of >=32, which indicates that you provided a multi-image array with shape (N, H, W) instead. If that is the case, you should use e.g. augmenter(imageS=<your input>) or augment_imageS(<your input>). Otherwise your multi-image input will be interpreted as a single image during augmentation.\n",
      "  category=SuspiciousSingleImageShapeWarning)\n"
     ]
    },
    {
     "name": "stdout",
     "output_type": "stream",
     "text": [
      "image_id 75\n",
      "image_id 255\n",
      "image_id 379\n",
      " 61/100 [=================>............] - ETA: 17:59:30 - loss: 1.5033 - rpn_class_loss: 0.0423 - rpn_bbox_loss: 0.1806 - mrcnn_class_loss: 0.1987 - mrcnn_bbox_loss: 0.3830 - mrcnn_mask_loss: 0.6986image_id 281\n"
     ]
    },
    {
     "name": "stderr",
     "output_type": "stream",
     "text": [
      "/home/hqq/.local/lib/python3.7/site-packages/imgaug/augmenters/base.py:59: SuspiciousSingleImageShapeWarning: You provided a numpy array of shape (512, 512, 32) as a single-image augmentation input, which was interpreted as (H, W, C). The last dimension however has a size of >=32, which indicates that you provided a multi-image array with shape (N, H, W) instead. If that is the case, you should use e.g. augmenter(imageS=<your input>) or augment_imageS(<your input>). Otherwise your multi-image input will be interpreted as a single image during augmentation.\n",
      "  category=SuspiciousSingleImageShapeWarning)\n"
     ]
    },
    {
     "name": "stdout",
     "output_type": "stream",
     "text": [
      "image_id 75\n",
      "image_id 255\n",
      "image_id 379\n",
      " 62/100 [=================>............] - ETA: 17:17:43 - loss: 1.4882 - rpn_class_loss: 0.0418 - rpn_bbox_loss: 0.1787 - mrcnn_class_loss: 0.1965 - mrcnn_bbox_loss: 0.3784 - mrcnn_mask_loss: 0.6928image_id 281\n"
     ]
    },
    {
     "name": "stderr",
     "output_type": "stream",
     "text": [
      "/home/hqq/.local/lib/python3.7/site-packages/imgaug/augmenters/base.py:59: SuspiciousSingleImageShapeWarning: You provided a numpy array of shape (512, 512, 32) as a single-image augmentation input, which was interpreted as (H, W, C). The last dimension however has a size of >=32, which indicates that you provided a multi-image array with shape (N, H, W) instead. If that is the case, you should use e.g. augmenter(imageS=<your input>) or augment_imageS(<your input>). Otherwise your multi-image input will be interpreted as a single image during augmentation.\n",
      "  category=SuspiciousSingleImageShapeWarning)\n"
     ]
    },
    {
     "name": "stdout",
     "output_type": "stream",
     "text": [
      "image_id 75\n",
      "image_id 255\n",
      "image_id 379\n",
      " 63/100 [=================>............] - ETA: 16:36:57 - loss: 1.4731 - rpn_class_loss: 0.0412 - rpn_bbox_loss: 0.1767 - mrcnn_class_loss: 0.1941 - mrcnn_bbox_loss: 0.3739 - mrcnn_mask_loss: 0.6872image_id 281\n"
     ]
    },
    {
     "name": "stderr",
     "output_type": "stream",
     "text": [
      "/home/hqq/.local/lib/python3.7/site-packages/imgaug/augmenters/base.py:59: SuspiciousSingleImageShapeWarning: You provided a numpy array of shape (512, 512, 32) as a single-image augmentation input, which was interpreted as (H, W, C). The last dimension however has a size of >=32, which indicates that you provided a multi-image array with shape (N, H, W) instead. If that is the case, you should use e.g. augmenter(imageS=<your input>) or augment_imageS(<your input>). Otherwise your multi-image input will be interpreted as a single image during augmentation.\n",
      "  category=SuspiciousSingleImageShapeWarning)\n"
     ]
    },
    {
     "name": "stdout",
     "output_type": "stream",
     "text": [
      "image_id 75\n",
      "image_id 255\n",
      "image_id 379\n",
      " 64/100 [==================>...........] - ETA: 15:57:10 - loss: 1.4589 - rpn_class_loss: 0.0406 - rpn_bbox_loss: 0.1747 - mrcnn_class_loss: 0.1920 - mrcnn_bbox_loss: 0.3696 - mrcnn_mask_loss: 0.6819image_id 281\n"
     ]
    },
    {
     "name": "stderr",
     "output_type": "stream",
     "text": [
      "/home/hqq/.local/lib/python3.7/site-packages/imgaug/augmenters/base.py:59: SuspiciousSingleImageShapeWarning: You provided a numpy array of shape (512, 512, 32) as a single-image augmentation input, which was interpreted as (H, W, C). The last dimension however has a size of >=32, which indicates that you provided a multi-image array with shape (N, H, W) instead. If that is the case, you should use e.g. augmenter(imageS=<your input>) or augment_imageS(<your input>). Otherwise your multi-image input will be interpreted as a single image during augmentation.\n",
      "  category=SuspiciousSingleImageShapeWarning)\n"
     ]
    },
    {
     "name": "stdout",
     "output_type": "stream",
     "text": [
      "image_id 75\n",
      "image_id 255\n",
      "image_id 379\n",
      " 65/100 [==================>...........] - ETA: 15:18:32 - loss: 1.4447 - rpn_class_loss: 0.0401 - rpn_bbox_loss: 0.1727 - mrcnn_class_loss: 0.1900 - mrcnn_bbox_loss: 0.3653 - mrcnn_mask_loss: 0.6765image_id 281\n"
     ]
    },
    {
     "name": "stderr",
     "output_type": "stream",
     "text": [
      "/home/hqq/.local/lib/python3.7/site-packages/imgaug/augmenters/base.py:59: SuspiciousSingleImageShapeWarning: You provided a numpy array of shape (512, 512, 32) as a single-image augmentation input, which was interpreted as (H, W, C). The last dimension however has a size of >=32, which indicates that you provided a multi-image array with shape (N, H, W) instead. If that is the case, you should use e.g. augmenter(imageS=<your input>) or augment_imageS(<your input>). Otherwise your multi-image input will be interpreted as a single image during augmentation.\n",
      "  category=SuspiciousSingleImageShapeWarning)\n"
     ]
    },
    {
     "name": "stdout",
     "output_type": "stream",
     "text": [
      "image_id 75\n",
      "image_id 255\n",
      "image_id 379\n",
      " 66/100 [==================>...........] - ETA: 14:40:56 - loss: 1.4303 - rpn_class_loss: 0.0396 - rpn_bbox_loss: 0.1707 - mrcnn_class_loss: 0.1882 - mrcnn_bbox_loss: 0.3611 - mrcnn_mask_loss: 0.6708image_id 281\n"
     ]
    },
    {
     "name": "stderr",
     "output_type": "stream",
     "text": [
      "/home/hqq/.local/lib/python3.7/site-packages/imgaug/augmenters/base.py:59: SuspiciousSingleImageShapeWarning: You provided a numpy array of shape (512, 512, 32) as a single-image augmentation input, which was interpreted as (H, W, C). The last dimension however has a size of >=32, which indicates that you provided a multi-image array with shape (N, H, W) instead. If that is the case, you should use e.g. augmenter(imageS=<your input>) or augment_imageS(<your input>). Otherwise your multi-image input will be interpreted as a single image during augmentation.\n",
      "  category=SuspiciousSingleImageShapeWarning)\n"
     ]
    },
    {
     "name": "stdout",
     "output_type": "stream",
     "text": [
      "image_id 75\n",
      "image_id 255\n",
      "image_id 379\n",
      " 67/100 [===================>..........] - ETA: 14:04:20 - loss: 1.4161 - rpn_class_loss: 0.0391 - rpn_bbox_loss: 0.1688 - mrcnn_class_loss: 0.1861 - mrcnn_bbox_loss: 0.3569 - mrcnn_mask_loss: 0.6653image_id 337\n",
      "image_id 23\n",
      "image_id 238\n",
      "image_id 175\n"
     ]
    },
    {
     "name": "stderr",
     "output_type": "stream",
     "text": [
      "/home/hqq/.local/lib/python3.7/site-packages/imgaug/augmenters/base.py:59: SuspiciousSingleImageShapeWarning: You provided a numpy array of shape (512, 512, 41) as a single-image augmentation input, which was interpreted as (H, W, C). The last dimension however has a size of >=32, which indicates that you provided a multi-image array with shape (N, H, W) instead. If that is the case, you should use e.g. augmenter(imageS=<your input>) or augment_imageS(<your input>). Otherwise your multi-image input will be interpreted as a single image during augmentation.\n",
      "  category=SuspiciousSingleImageShapeWarning)\n"
     ]
    },
    {
     "name": "stdout",
     "output_type": "stream",
     "text": [
      " 68/100 [===================>..........] - ETA: 13:28:57 - loss: 1.4023 - rpn_class_loss: 0.0386 - rpn_bbox_loss: 0.1668 - mrcnn_class_loss: 0.1841 - mrcnn_bbox_loss: 0.3528 - mrcnn_mask_loss: 0.6600image_id 281\n"
     ]
    },
    {
     "name": "stderr",
     "output_type": "stream",
     "text": [
      "/home/hqq/.local/lib/python3.7/site-packages/imgaug/augmenters/base.py:59: SuspiciousSingleImageShapeWarning: You provided a numpy array of shape (512, 512, 32) as a single-image augmentation input, which was interpreted as (H, W, C). The last dimension however has a size of >=32, which indicates that you provided a multi-image array with shape (N, H, W) instead. If that is the case, you should use e.g. augmenter(imageS=<your input>) or augment_imageS(<your input>). Otherwise your multi-image input will be interpreted as a single image during augmentation.\n",
      "  category=SuspiciousSingleImageShapeWarning)\n"
     ]
    },
    {
     "name": "stdout",
     "output_type": "stream",
     "text": [
      "image_id 75\n",
      "image_id 255\n",
      "image_id 379\n",
      " 69/100 [===================>..........] - ETA: 12:54:13 - loss: 1.3883 - rpn_class_loss: 0.0381 - rpn_bbox_loss: 0.1649 - mrcnn_class_loss: 0.1822 - mrcnn_bbox_loss: 0.3487 - mrcnn_mask_loss: 0.6545image_id 337\n",
      "image_id 23\n",
      "image_id 238\n",
      "image_id 175\n"
     ]
    },
    {
     "name": "stderr",
     "output_type": "stream",
     "text": [
      "/home/hqq/.local/lib/python3.7/site-packages/imgaug/augmenters/base.py:59: SuspiciousSingleImageShapeWarning: You provided a numpy array of shape (512, 512, 41) as a single-image augmentation input, which was interpreted as (H, W, C). The last dimension however has a size of >=32, which indicates that you provided a multi-image array with shape (N, H, W) instead. If that is the case, you should use e.g. augmenter(imageS=<your input>) or augment_imageS(<your input>). Otherwise your multi-image input will be interpreted as a single image during augmentation.\n",
      "  category=SuspiciousSingleImageShapeWarning)\n"
     ]
    },
    {
     "name": "stdout",
     "output_type": "stream",
     "text": [
      " 70/100 [====================>.........] - ETA: 12:20:36 - loss: 1.3743 - rpn_class_loss: 0.0376 - rpn_bbox_loss: 0.1630 - mrcnn_class_loss: 0.1802 - mrcnn_bbox_loss: 0.3445 - mrcnn_mask_loss: 0.6490image_id 337\n",
      "image_id 23\n",
      "image_id 238\n",
      "image_id 175\n"
     ]
    },
    {
     "name": "stderr",
     "output_type": "stream",
     "text": [
      "/home/hqq/.local/lib/python3.7/site-packages/imgaug/augmenters/base.py:59: SuspiciousSingleImageShapeWarning: You provided a numpy array of shape (512, 512, 41) as a single-image augmentation input, which was interpreted as (H, W, C). The last dimension however has a size of >=32, which indicates that you provided a multi-image array with shape (N, H, W) instead. If that is the case, you should use e.g. augmenter(imageS=<your input>) or augment_imageS(<your input>). Otherwise your multi-image input will be interpreted as a single image during augmentation.\n",
      "  category=SuspiciousSingleImageShapeWarning)\n"
     ]
    },
    {
     "name": "stdout",
     "output_type": "stream",
     "text": [
      " 71/100 [====================>.........] - ETA: 11:47:47 - loss: 1.3605 - rpn_class_loss: 0.0371 - rpn_bbox_loss: 0.1611 - mrcnn_class_loss: 0.1783 - mrcnn_bbox_loss: 0.3404 - mrcnn_mask_loss: 0.6435image_id 337\n",
      "image_id 23\n",
      "image_id 238\n",
      "image_id 175\n"
     ]
    },
    {
     "name": "stderr",
     "output_type": "stream",
     "text": [
      "/home/hqq/.local/lib/python3.7/site-packages/imgaug/augmenters/base.py:59: SuspiciousSingleImageShapeWarning: You provided a numpy array of shape (512, 512, 41) as a single-image augmentation input, which was interpreted as (H, W, C). The last dimension however has a size of >=32, which indicates that you provided a multi-image array with shape (N, H, W) instead. If that is the case, you should use e.g. augmenter(imageS=<your input>) or augment_imageS(<your input>). Otherwise your multi-image input will be interpreted as a single image during augmentation.\n",
      "  category=SuspiciousSingleImageShapeWarning)\n"
     ]
    },
    {
     "name": "stdout",
     "output_type": "stream",
     "text": [
      " 72/100 [====================>.........] - ETA: 11:15:42 - loss: 1.3469 - rpn_class_loss: 0.0367 - rpn_bbox_loss: 0.1593 - mrcnn_class_loss: 0.1764 - mrcnn_bbox_loss: 0.3364 - mrcnn_mask_loss: 0.6381image_id 337\n",
      "image_id 23\n",
      "image_id 238\n",
      "image_id 175\n"
     ]
    },
    {
     "name": "stderr",
     "output_type": "stream",
     "text": [
      "/home/hqq/.local/lib/python3.7/site-packages/imgaug/augmenters/base.py:59: SuspiciousSingleImageShapeWarning: You provided a numpy array of shape (512, 512, 41) as a single-image augmentation input, which was interpreted as (H, W, C). The last dimension however has a size of >=32, which indicates that you provided a multi-image array with shape (N, H, W) instead. If that is the case, you should use e.g. augmenter(imageS=<your input>) or augment_imageS(<your input>). Otherwise your multi-image input will be interpreted as a single image during augmentation.\n",
      "  category=SuspiciousSingleImageShapeWarning)\n"
     ]
    },
    {
     "name": "stdout",
     "output_type": "stream",
     "text": [
      " 73/100 [====================>.........] - ETA: 10:44:28 - loss: 1.3332 - rpn_class_loss: 0.0362 - rpn_bbox_loss: 0.1575 - mrcnn_class_loss: 0.1745 - mrcnn_bbox_loss: 0.3326 - mrcnn_mask_loss: 0.6325image_id 337\n",
      "image_id 23\n",
      "image_id 238\n",
      "image_id 175\n"
     ]
    },
    {
     "name": "stderr",
     "output_type": "stream",
     "text": [
      "/home/hqq/.local/lib/python3.7/site-packages/imgaug/augmenters/base.py:59: SuspiciousSingleImageShapeWarning: You provided a numpy array of shape (512, 512, 41) as a single-image augmentation input, which was interpreted as (H, W, C). The last dimension however has a size of >=32, which indicates that you provided a multi-image array with shape (N, H, W) instead. If that is the case, you should use e.g. augmenter(imageS=<your input>) or augment_imageS(<your input>). Otherwise your multi-image input will be interpreted as a single image during augmentation.\n",
      "  category=SuspiciousSingleImageShapeWarning)\n"
     ]
    },
    {
     "name": "stdout",
     "output_type": "stream",
     "text": [
      " 74/100 [=====================>........] - ETA: 10:13:57 - loss: 1.3439 - rpn_class_loss: 0.0369 - rpn_bbox_loss: 0.1607 - mrcnn_class_loss: 0.1782 - mrcnn_bbox_loss: 0.3338 - mrcnn_mask_loss: 0.6343image_id 337\n",
      "image_id 23\n",
      "image_id 238\n",
      "image_id 175\n"
     ]
    },
    {
     "name": "stderr",
     "output_type": "stream",
     "text": [
      "/home/hqq/.local/lib/python3.7/site-packages/imgaug/augmenters/base.py:59: SuspiciousSingleImageShapeWarning: You provided a numpy array of shape (512, 512, 41) as a single-image augmentation input, which was interpreted as (H, W, C). The last dimension however has a size of >=32, which indicates that you provided a multi-image array with shape (N, H, W) instead. If that is the case, you should use e.g. augmenter(imageS=<your input>) or augment_imageS(<your input>). Otherwise your multi-image input will be interpreted as a single image during augmentation.\n",
      "  category=SuspiciousSingleImageShapeWarning)\n"
     ]
    },
    {
     "name": "stdout",
     "output_type": "stream",
     "text": [
      " 75/100 [=====================>........] - ETA: 9:44:03 - loss: 1.3536 - rpn_class_loss: 0.0375 - rpn_bbox_loss: 0.1639 - mrcnn_class_loss: 0.1819 - mrcnn_bbox_loss: 0.3343 - mrcnn_mask_loss: 0.6360 image_id 337\n",
      "image_id 23\n",
      "image_id 238\n",
      "image_id 175\n"
     ]
    },
    {
     "name": "stderr",
     "output_type": "stream",
     "text": [
      "/home/hqq/.local/lib/python3.7/site-packages/imgaug/augmenters/base.py:59: SuspiciousSingleImageShapeWarning: You provided a numpy array of shape (512, 512, 41) as a single-image augmentation input, which was interpreted as (H, W, C). The last dimension however has a size of >=32, which indicates that you provided a multi-image array with shape (N, H, W) instead. If that is the case, you should use e.g. augmenter(imageS=<your input>) or augment_imageS(<your input>). Otherwise your multi-image input will be interpreted as a single image during augmentation.\n",
      "  category=SuspiciousSingleImageShapeWarning)\n"
     ]
    },
    {
     "name": "stdout",
     "output_type": "stream",
     "text": [
      " 76/100 [=====================>........] - ETA: 9:14:49 - loss: 1.3610 - rpn_class_loss: 0.0381 - rpn_bbox_loss: 0.1669 - mrcnn_class_loss: 0.1847 - mrcnn_bbox_loss: 0.3345 - mrcnn_mask_loss: 0.6367image_id 337\n",
      "image_id 23\n",
      "image_id 238\n",
      "image_id 175\n"
     ]
    },
    {
     "name": "stderr",
     "output_type": "stream",
     "text": [
      "/home/hqq/.local/lib/python3.7/site-packages/imgaug/augmenters/base.py:59: SuspiciousSingleImageShapeWarning: You provided a numpy array of shape (512, 512, 41) as a single-image augmentation input, which was interpreted as (H, W, C). The last dimension however has a size of >=32, which indicates that you provided a multi-image array with shape (N, H, W) instead. If that is the case, you should use e.g. augmenter(imageS=<your input>) or augment_imageS(<your input>). Otherwise your multi-image input will be interpreted as a single image during augmentation.\n",
      "  category=SuspiciousSingleImageShapeWarning)\n"
     ]
    },
    {
     "name": "stdout",
     "output_type": "stream",
     "text": [
      " 77/100 [======================>.......] - ETA: 8:46:13 - loss: 1.3665 - rpn_class_loss: 0.0387 - rpn_bbox_loss: 0.1698 - mrcnn_class_loss: 0.1872 - mrcnn_bbox_loss: 0.3345 - mrcnn_mask_loss: 0.6363image_id 337\n",
      "image_id 23\n",
      "image_id 238\n",
      "image_id 175\n"
     ]
    },
    {
     "name": "stderr",
     "output_type": "stream",
     "text": [
      "/home/hqq/.local/lib/python3.7/site-packages/imgaug/augmenters/base.py:59: SuspiciousSingleImageShapeWarning: You provided a numpy array of shape (512, 512, 41) as a single-image augmentation input, which was interpreted as (H, W, C). The last dimension however has a size of >=32, which indicates that you provided a multi-image array with shape (N, H, W) instead. If that is the case, you should use e.g. augmenter(imageS=<your input>) or augment_imageS(<your input>). Otherwise your multi-image input will be interpreted as a single image during augmentation.\n",
      "  category=SuspiciousSingleImageShapeWarning)\n"
     ]
    },
    {
     "name": "stdout",
     "output_type": "stream",
     "text": [
      " 78/100 [======================>.......] - ETA: 8:18:14 - loss: 1.3705 - rpn_class_loss: 0.0393 - rpn_bbox_loss: 0.1724 - mrcnn_class_loss: 0.1896 - mrcnn_bbox_loss: 0.3341 - mrcnn_mask_loss: 0.6352image_id 337\n",
      "image_id 23\n",
      "image_id 238\n",
      "image_id 175\n"
     ]
    },
    {
     "name": "stderr",
     "output_type": "stream",
     "text": [
      "/home/hqq/.local/lib/python3.7/site-packages/imgaug/augmenters/base.py:59: SuspiciousSingleImageShapeWarning: You provided a numpy array of shape (512, 512, 41) as a single-image augmentation input, which was interpreted as (H, W, C). The last dimension however has a size of >=32, which indicates that you provided a multi-image array with shape (N, H, W) instead. If that is the case, you should use e.g. augmenter(imageS=<your input>) or augment_imageS(<your input>). Otherwise your multi-image input will be interpreted as a single image during augmentation.\n",
      "  category=SuspiciousSingleImageShapeWarning)\n"
     ]
    },
    {
     "name": "stdout",
     "output_type": "stream",
     "text": [
      " 79/100 [======================>.......] - ETA: 7:50:50 - loss: 1.3733 - rpn_class_loss: 0.0398 - rpn_bbox_loss: 0.1747 - mrcnn_class_loss: 0.1916 - mrcnn_bbox_loss: 0.3335 - mrcnn_mask_loss: 0.6337image_id 337\n",
      "image_id 23\n",
      "image_id 238\n",
      "image_id 175\n"
     ]
    },
    {
     "name": "stderr",
     "output_type": "stream",
     "text": [
      "/home/hqq/.local/lib/python3.7/site-packages/imgaug/augmenters/base.py:59: SuspiciousSingleImageShapeWarning: You provided a numpy array of shape (512, 512, 41) as a single-image augmentation input, which was interpreted as (H, W, C). The last dimension however has a size of >=32, which indicates that you provided a multi-image array with shape (N, H, W) instead. If that is the case, you should use e.g. augmenter(imageS=<your input>) or augment_imageS(<your input>). Otherwise your multi-image input will be interpreted as a single image during augmentation.\n",
      "  category=SuspiciousSingleImageShapeWarning)\n"
     ]
    },
    {
     "name": "stdout",
     "output_type": "stream",
     "text": [
      " 80/100 [=======================>......] - ETA: 7:24:00 - loss: 1.3751 - rpn_class_loss: 0.0403 - rpn_bbox_loss: 0.1767 - mrcnn_class_loss: 0.1936 - mrcnn_bbox_loss: 0.3325 - mrcnn_mask_loss: 0.6320image_id 337\n",
      "image_id 23\n",
      "image_id 238\n",
      "image_id 175\n"
     ]
    },
    {
     "name": "stderr",
     "output_type": "stream",
     "text": [
      "/home/hqq/.local/lib/python3.7/site-packages/imgaug/augmenters/base.py:59: SuspiciousSingleImageShapeWarning: You provided a numpy array of shape (512, 512, 41) as a single-image augmentation input, which was interpreted as (H, W, C). The last dimension however has a size of >=32, which indicates that you provided a multi-image array with shape (N, H, W) instead. If that is the case, you should use e.g. augmenter(imageS=<your input>) or augment_imageS(<your input>). Otherwise your multi-image input will be interpreted as a single image during augmentation.\n",
      "  category=SuspiciousSingleImageShapeWarning)\n"
     ]
    },
    {
     "name": "stdout",
     "output_type": "stream",
     "text": [
      " 81/100 [=======================>......] - ETA: 6:57:43 - loss: 1.3756 - rpn_class_loss: 0.0407 - rpn_bbox_loss: 0.1784 - mrcnn_class_loss: 0.1951 - mrcnn_bbox_loss: 0.3315 - mrcnn_mask_loss: 0.6297image_id 337\n",
      "image_id 23\n",
      "image_id 238\n",
      "image_id 175\n"
     ]
    },
    {
     "name": "stderr",
     "output_type": "stream",
     "text": [
      "/home/hqq/.local/lib/python3.7/site-packages/imgaug/augmenters/base.py:59: SuspiciousSingleImageShapeWarning: You provided a numpy array of shape (512, 512, 41) as a single-image augmentation input, which was interpreted as (H, W, C). The last dimension however has a size of >=32, which indicates that you provided a multi-image array with shape (N, H, W) instead. If that is the case, you should use e.g. augmenter(imageS=<your input>) or augment_imageS(<your input>). Otherwise your multi-image input will be interpreted as a single image during augmentation.\n",
      "  category=SuspiciousSingleImageShapeWarning)\n"
     ]
    },
    {
     "name": "stdout",
     "output_type": "stream",
     "text": [
      " 82/100 [=======================>......] - ETA: 6:31:56 - loss: 1.3747 - rpn_class_loss: 0.0412 - rpn_bbox_loss: 0.1799 - mrcnn_class_loss: 0.1959 - mrcnn_bbox_loss: 0.3305 - mrcnn_mask_loss: 0.6272image_id 337\n",
      "image_id 23\n",
      "image_id 238\n",
      "image_id 175\n"
     ]
    },
    {
     "name": "stderr",
     "output_type": "stream",
     "text": [
      "/home/hqq/.local/lib/python3.7/site-packages/imgaug/augmenters/base.py:59: SuspiciousSingleImageShapeWarning: You provided a numpy array of shape (512, 512, 41) as a single-image augmentation input, which was interpreted as (H, W, C). The last dimension however has a size of >=32, which indicates that you provided a multi-image array with shape (N, H, W) instead. If that is the case, you should use e.g. augmenter(imageS=<your input>) or augment_imageS(<your input>). Otherwise your multi-image input will be interpreted as a single image during augmentation.\n",
      "  category=SuspiciousSingleImageShapeWarning)\n"
     ]
    },
    {
     "name": "stdout",
     "output_type": "stream",
     "text": [
      " 83/100 [=======================>......] - ETA: 6:06:42 - loss: 1.3729 - rpn_class_loss: 0.0416 - rpn_bbox_loss: 0.1810 - mrcnn_class_loss: 0.1968 - mrcnn_bbox_loss: 0.3294 - mrcnn_mask_loss: 0.6242image_id 337\n",
      "image_id 23\n",
      "image_id 238\n",
      "image_id 175\n"
     ]
    },
    {
     "name": "stderr",
     "output_type": "stream",
     "text": [
      "/home/hqq/.local/lib/python3.7/site-packages/imgaug/augmenters/base.py:59: SuspiciousSingleImageShapeWarning: You provided a numpy array of shape (512, 512, 41) as a single-image augmentation input, which was interpreted as (H, W, C). The last dimension however has a size of >=32, which indicates that you provided a multi-image array with shape (N, H, W) instead. If that is the case, you should use e.g. augmenter(imageS=<your input>) or augment_imageS(<your input>). Otherwise your multi-image input will be interpreted as a single image during augmentation.\n",
      "  category=SuspiciousSingleImageShapeWarning)\n"
     ]
    },
    {
     "name": "stdout",
     "output_type": "stream",
     "text": [
      " 84/100 [========================>.....] - ETA: 5:41:58 - loss: 1.3708 - rpn_class_loss: 0.0419 - rpn_bbox_loss: 0.1818 - mrcnn_class_loss: 0.1978 - mrcnn_bbox_loss: 0.3283 - mrcnn_mask_loss: 0.6210image_id 337\n",
      "image_id 23\n",
      "image_id 238\n",
      "image_id 175\n"
     ]
    },
    {
     "name": "stderr",
     "output_type": "stream",
     "text": [
      "/home/hqq/.local/lib/python3.7/site-packages/imgaug/augmenters/base.py:59: SuspiciousSingleImageShapeWarning: You provided a numpy array of shape (512, 512, 41) as a single-image augmentation input, which was interpreted as (H, W, C). The last dimension however has a size of >=32, which indicates that you provided a multi-image array with shape (N, H, W) instead. If that is the case, you should use e.g. augmenter(imageS=<your input>) or augment_imageS(<your input>). Otherwise your multi-image input will be interpreted as a single image during augmentation.\n",
      "  category=SuspiciousSingleImageShapeWarning)\n"
     ]
    },
    {
     "name": "stdout",
     "output_type": "stream",
     "text": [
      " 85/100 [========================>.....] - ETA: 5:17:40 - loss: 1.3681 - rpn_class_loss: 0.0422 - rpn_bbox_loss: 0.1824 - mrcnn_class_loss: 0.1986 - mrcnn_bbox_loss: 0.3269 - mrcnn_mask_loss: 0.6180image_id 337\n",
      "image_id 23\n",
      "image_id 238\n",
      "image_id 175\n"
     ]
    },
    {
     "name": "stderr",
     "output_type": "stream",
     "text": [
      "/home/hqq/.local/lib/python3.7/site-packages/imgaug/augmenters/base.py:59: SuspiciousSingleImageShapeWarning: You provided a numpy array of shape (512, 512, 41) as a single-image augmentation input, which was interpreted as (H, W, C). The last dimension however has a size of >=32, which indicates that you provided a multi-image array with shape (N, H, W) instead. If that is the case, you should use e.g. augmenter(imageS=<your input>) or augment_imageS(<your input>). Otherwise your multi-image input will be interpreted as a single image during augmentation.\n",
      "  category=SuspiciousSingleImageShapeWarning)\n"
     ]
    },
    {
     "name": "stdout",
     "output_type": "stream",
     "text": [
      " 86/100 [========================>.....] - ETA: 4:53:47 - loss: 1.3653 - rpn_class_loss: 0.0425 - rpn_bbox_loss: 0.1827 - mrcnn_class_loss: 0.1992 - mrcnn_bbox_loss: 0.3258 - mrcnn_mask_loss: 0.6150image_id 337\n",
      "image_id 23\n",
      "image_id 238\n",
      "image_id 175\n"
     ]
    },
    {
     "name": "stderr",
     "output_type": "stream",
     "text": [
      "/home/hqq/.local/lib/python3.7/site-packages/imgaug/augmenters/base.py:59: SuspiciousSingleImageShapeWarning: You provided a numpy array of shape (512, 512, 41) as a single-image augmentation input, which was interpreted as (H, W, C). The last dimension however has a size of >=32, which indicates that you provided a multi-image array with shape (N, H, W) instead. If that is the case, you should use e.g. augmenter(imageS=<your input>) or augment_imageS(<your input>). Otherwise your multi-image input will be interpreted as a single image during augmentation.\n",
      "  category=SuspiciousSingleImageShapeWarning)\n"
     ]
    },
    {
     "name": "stdout",
     "output_type": "stream",
     "text": [
      " 87/100 [=========================>....] - ETA: 4:30:21 - loss: 1.3622 - rpn_class_loss: 0.0427 - rpn_bbox_loss: 0.1829 - mrcnn_class_loss: 0.1998 - mrcnn_bbox_loss: 0.3247 - mrcnn_mask_loss: 0.6121image_id 337\n",
      "image_id 23\n",
      "image_id 238\n",
      "image_id 175\n"
     ]
    },
    {
     "name": "stderr",
     "output_type": "stream",
     "text": [
      "/home/hqq/.local/lib/python3.7/site-packages/imgaug/augmenters/base.py:59: SuspiciousSingleImageShapeWarning: You provided a numpy array of shape (512, 512, 41) as a single-image augmentation input, which was interpreted as (H, W, C). The last dimension however has a size of >=32, which indicates that you provided a multi-image array with shape (N, H, W) instead. If that is the case, you should use e.g. augmenter(imageS=<your input>) or augment_imageS(<your input>). Otherwise your multi-image input will be interpreted as a single image during augmentation.\n",
      "  category=SuspiciousSingleImageShapeWarning)\n"
     ]
    },
    {
     "name": "stdout",
     "output_type": "stream",
     "text": [
      " 88/100 [=========================>....] - ETA: 4:07:21 - loss: 1.3580 - rpn_class_loss: 0.0430 - rpn_bbox_loss: 0.1828 - mrcnn_class_loss: 0.1999 - mrcnn_bbox_loss: 0.3232 - mrcnn_mask_loss: 0.6091image_id 337\n",
      "image_id 23\n",
      "image_id 238\n",
      "image_id 175\n"
     ]
    },
    {
     "name": "stderr",
     "output_type": "stream",
     "text": [
      "/home/hqq/.local/lib/python3.7/site-packages/imgaug/augmenters/base.py:59: SuspiciousSingleImageShapeWarning: You provided a numpy array of shape (512, 512, 41) as a single-image augmentation input, which was interpreted as (H, W, C). The last dimension however has a size of >=32, which indicates that you provided a multi-image array with shape (N, H, W) instead. If that is the case, you should use e.g. augmenter(imageS=<your input>) or augment_imageS(<your input>). Otherwise your multi-image input will be interpreted as a single image during augmentation.\n",
      "  category=SuspiciousSingleImageShapeWarning)\n"
     ]
    },
    {
     "name": "stdout",
     "output_type": "stream",
     "text": [
      " 89/100 [=========================>....] - ETA: 3:44:45 - loss: 1.3539 - rpn_class_loss: 0.0431 - rpn_bbox_loss: 0.1827 - mrcnn_class_loss: 0.2002 - mrcnn_bbox_loss: 0.3218 - mrcnn_mask_loss: 0.6061image_id 337\n",
      "image_id 23\n",
      "image_id 238\n",
      "image_id 175\n"
     ]
    },
    {
     "name": "stderr",
     "output_type": "stream",
     "text": [
      "/home/hqq/.local/lib/python3.7/site-packages/imgaug/augmenters/base.py:59: SuspiciousSingleImageShapeWarning: You provided a numpy array of shape (512, 512, 41) as a single-image augmentation input, which was interpreted as (H, W, C). The last dimension however has a size of >=32, which indicates that you provided a multi-image array with shape (N, H, W) instead. If that is the case, you should use e.g. augmenter(imageS=<your input>) or augment_imageS(<your input>). Otherwise your multi-image input will be interpreted as a single image during augmentation.\n",
      "  category=SuspiciousSingleImageShapeWarning)\n"
     ]
    },
    {
     "name": "stdout",
     "output_type": "stream",
     "text": [
      " 90/100 [==========================>...] - ETA: 3:22:34 - loss: 1.3490 - rpn_class_loss: 0.0433 - rpn_bbox_loss: 0.1825 - mrcnn_class_loss: 0.2000 - mrcnn_bbox_loss: 0.3203 - mrcnn_mask_loss: 0.6029image_id 337\n",
      "image_id 23\n",
      "image_id 238\n",
      "image_id 175\n"
     ]
    },
    {
     "name": "stderr",
     "output_type": "stream",
     "text": [
      "/home/hqq/.local/lib/python3.7/site-packages/imgaug/augmenters/base.py:59: SuspiciousSingleImageShapeWarning: You provided a numpy array of shape (512, 512, 41) as a single-image augmentation input, which was interpreted as (H, W, C). The last dimension however has a size of >=32, which indicates that you provided a multi-image array with shape (N, H, W) instead. If that is the case, you should use e.g. augmenter(imageS=<your input>) or augment_imageS(<your input>). Otherwise your multi-image input will be interpreted as a single image during augmentation.\n",
      "  category=SuspiciousSingleImageShapeWarning)\n"
     ]
    },
    {
     "name": "stdout",
     "output_type": "stream",
     "text": [
      " 91/100 [==========================>...] - ETA: 3:00:46 - loss: 1.3443 - rpn_class_loss: 0.0434 - rpn_bbox_loss: 0.1821 - mrcnn_class_loss: 0.2001 - mrcnn_bbox_loss: 0.3189 - mrcnn_mask_loss: 0.5998image_id 285\n",
      "image_id 317\n",
      "image_id 20\n",
      "image_id 449\n",
      " 92/100 [==========================>...] - ETA: 2:39:13 - loss: 1.3391 - rpn_class_loss: 0.0435 - rpn_bbox_loss: 0.1818 - mrcnn_class_loss: 0.1997 - mrcnn_bbox_loss: 0.3173 - mrcnn_mask_loss: 0.5968image_id 337\n",
      "image_id 23\n",
      "image_id 238\n",
      "image_id 175\n"
     ]
    },
    {
     "name": "stderr",
     "output_type": "stream",
     "text": [
      "/home/hqq/.local/lib/python3.7/site-packages/imgaug/augmenters/base.py:59: SuspiciousSingleImageShapeWarning: You provided a numpy array of shape (512, 512, 41) as a single-image augmentation input, which was interpreted as (H, W, C). The last dimension however has a size of >=32, which indicates that you provided a multi-image array with shape (N, H, W) instead. If that is the case, you should use e.g. augmenter(imageS=<your input>) or augment_imageS(<your input>). Otherwise your multi-image input will be interpreted as a single image during augmentation.\n",
      "  category=SuspiciousSingleImageShapeWarning)\n"
     ]
    },
    {
     "name": "stdout",
     "output_type": "stream",
     "text": [
      " 93/100 [==========================>...] - ETA: 2:18:10 - loss: 1.3343 - rpn_class_loss: 0.0436 - rpn_bbox_loss: 0.1813 - mrcnn_class_loss: 0.1998 - mrcnn_bbox_loss: 0.3157 - mrcnn_mask_loss: 0.5939image_id 285\n",
      "image_id 317\n",
      "image_id 20\n",
      "image_id 449\n",
      " 94/100 [===========================>..] - ETA: 1:57:23 - loss: 1.3292 - rpn_class_loss: 0.0437 - rpn_bbox_loss: 0.1808 - mrcnn_class_loss: 0.1996 - mrcnn_bbox_loss: 0.3141 - mrcnn_mask_loss: 0.5911image_id 285\n",
      "image_id 317\n",
      "image_id 20\n",
      "image_id 449\n",
      " 95/100 [===========================>..] - ETA: 1:36:59 - loss: 1.3238 - rpn_class_loss: 0.0437 - rpn_bbox_loss: 0.1802 - mrcnn_class_loss: 0.1992 - mrcnn_bbox_loss: 0.3124 - mrcnn_mask_loss: 0.5883image_id 285\n",
      "image_id 317\n",
      "image_id 20\n",
      "image_id 449\n",
      " 96/100 [===========================>..] - ETA: 1:16:55 - loss: 1.3185 - rpn_class_loss: 0.0438 - rpn_bbox_loss: 0.1796 - mrcnn_class_loss: 0.1989 - mrcnn_bbox_loss: 0.3107 - mrcnn_mask_loss: 0.5855image_id 285\n",
      "image_id 317\n",
      "image_id 20\n",
      "image_id 449\n",
      " 97/100 [============================>.] - ETA: 57:12 - loss: 1.3132 - rpn_class_loss: 0.0438 - rpn_bbox_loss: 0.1790 - mrcnn_class_loss: 0.1988 - mrcnn_bbox_loss: 0.3089 - mrcnn_mask_loss: 0.5827  image_id 285\n"
     ]
    }
   ],
   "source": [
    "model.train(dataset_train, dataset_val,\n",
    "            learning_rate=config.LEARNING_RATE,\n",
    "            epochs=10,\n",
    "#             augmentation=augmentation,\n",
    "            layers='heads')"
   ]
  },
  {
   "cell_type": "code",
   "execution_count": null,
   "metadata": {},
   "outputs": [],
   "source": [
    "model.train(dataset_train, dataset_val,\n",
    "            learning_rate=config.LEARNING_RATE,\n",
    "            epochs=30,\n",
    "#             augmentation=augmentation,\n",
    "            layers=\"all\")"
   ]
  }
 ],
 "metadata": {
  "kernelspec": {
   "display_name": "Python 3",
   "language": "python",
   "name": "python3"
  },
  "language_info": {
   "codemirror_mode": {
    "name": "ipython",
    "version": 3
   },
   "file_extension": ".py",
   "mimetype": "text/x-python",
   "name": "python",
   "nbconvert_exporter": "python",
   "pygments_lexer": "ipython3",
   "version": "3.7.1"
  }
 },
 "nbformat": 4,
 "nbformat_minor": 2
}
